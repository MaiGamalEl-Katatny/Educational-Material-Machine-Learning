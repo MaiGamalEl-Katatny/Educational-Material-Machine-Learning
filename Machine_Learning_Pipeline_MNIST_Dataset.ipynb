{
  "cells": [
    {
      "cell_type": "markdown",
      "metadata": {
        "id": "7vgDVpjkjxPZ"
      },
      "source": [
        "#<center>**Machine Learning Pipeline - MNIST Dataset**</center>\n",
        "\n",
        "<center><img src=\"https://raw.githubusercontent.com/yashk2810/yashk2810.github.io/master/images/mnist.png\"></center>\n",
        "<center>Image Source: https://raw.githubusercontent.com/yashk2810/yashk2810.github.io/master/images/mnist.png</center>\n",
        "\n",
        "In this notebook, we will practice creating a pipeline for solving a machine learning problem. The notebook will include the common steps required for solving a machine learning problem such as data reading, data visualization, data processing, feature engineering, and algorithm selection. \n",
        "\n",
        "We will use the famous MNIST dataset. The MNIST dataset is very suitable for experimenting different machine learning techniques to learn how they work and compare them. The main goal of the problem is to classify digits from handwritten images. \n",
        "\n",
        "As mentioned in a Kaggle competition for the MNIST data: \"MNIST (\"Modified National Institute of Standards and Technology\") is the de facto “hello world” dataset of computer vision. Since its release in 1999, this classic dataset of handwritten images has served as the basis for benchmarking classification algorithms. As new machine learning techniques emerge, MNIST remains a reliable resource for researchers and learners alike\".\n",
        "\n",
        "This is the link to a GettingStarted Prediction Competition on the MNIST dataset named \"Digit Recognizer\": https://www.kaggle.com/competitions/digit-recognizer. You can check the notebooks, solutions, and discussions included in the competition to help you in learning the different approaches to solving a machine learning problem. You may also try to create your own solution, submit it, and see how it works!\n",
        "\n",
        "The original source and information of the dataset can be found here: http://yann.lecun.com/exdb/mnist/index.html \n",
        "\n",
        "The image below shows the general pipeline of a machine learning project. In the notebook, we will try to show parts of this pipeline on the MNIST dataset. \n",
        "\n",
        "<center><img src=\"https://miro.medium.com/max/842/1*CyK1miQfy1OHmv2wUcjT1w.png\"></center>\n",
        "<center>Image Source: https://miro.medium.com/max/842/1*CyK1miQfy1OHmv2wUcjT1w.png</center>\n",
        "\n",
        "So, let's get started!"
      ]
    },
    {
      "cell_type": "markdown",
      "metadata": {
        "id": "rzmNfm4xpwA9"
      },
      "source": [
        "# **Step 1: Data Preparation, Reading, and Visualization**\n",
        "\n",
        "\n",
        "---\n",
        "\n",
        "\n",
        "The first step in any machine learning problem is reading and visualizing the data to make sure you understand it and its structure. \n",
        "\n",
        "The datasets can be downloaded from different sources.\n",
        "\n",
        "1.   You can download the original dataset files from their original source such as this one for the MNIST dataset: http://yann.lecun.com/exdb/mnist/index.html. You can find a lot of datasets for different ML problems on this website: https://openml.org/. In this case, you need to manually save and read the files from their path to work on them. \n",
        "\n",
        "2.   You can download the data from available packages such as *sklearn.datasets* (https://scikit-learn.org/stable/datasets.html), *keras.datasets* (https://keras.io/api/datasets/), *tensorflow_datasets* (https://www.tensorflow.org/datasets), and you may also find others. When you load the datasets from these packages, you have two options. The first is working on your PC, and in this case, the dataset files are usually downloaded in a specific path on your PC. The second option is working on Google Colab, and in this case, Colab manages the process of loading and saving the data on its servers. So, you do not save or keep a copy of the dataset. You just call and use the dataset whenever you want.\n",
        "\n",
        "So, let's read and visualize the MNIST dataset!\n",
        "\n",
        "\n"
      ]
    },
    {
      "cell_type": "code",
      "execution_count": 1,
      "metadata": {
        "id": "hOL1hi6vLDPr"
      },
      "outputs": [],
      "source": [
        "#Loading the MNIST data from sklearn.datasets package\n",
        "\n",
        "from sklearn.datasets import fetch_openml\n",
        "\n",
        "mnist_data = fetch_openml('mnist_784')"
      ]
    },
    {
      "cell_type": "code",
      "execution_count": 2,
      "metadata": {
        "colab": {
          "base_uri": "https://localhost:8080/"
        },
        "id": "RJ9vV5GnL_dK",
        "outputId": "fb941d5a-176c-49ec-d9a6-5337c8fcd005"
      },
      "outputs": [
        {
          "output_type": "execute_result",
          "data": {
            "text/plain": [
              "{'DESCR': \"**Author**: Yann LeCun, Corinna Cortes, Christopher J.C. Burges  \\n**Source**: [MNIST Website](http://yann.lecun.com/exdb/mnist/) - Date unknown  \\n**Please cite**:  \\n\\nThe MNIST database of handwritten digits with 784 features, raw data available at: http://yann.lecun.com/exdb/mnist/. It can be split in a training set of the first 60,000 examples, and a test set of 10,000 examples  \\n\\nIt is a subset of a larger set available from NIST. The digits have been size-normalized and centered in a fixed-size image. It is a good database for people who want to try learning techniques and pattern recognition methods on real-world data while spending minimal efforts on preprocessing and formatting. The original black and white (bilevel) images from NIST were size normalized to fit in a 20x20 pixel box while preserving their aspect ratio. The resulting images contain grey levels as a result of the anti-aliasing technique used by the normalization algorithm. the images were centered in a 28x28 image by computing the center of mass of the pixels, and translating the image so as to position this point at the center of the 28x28 field.  \\n\\nWith some classification methods (particularly template-based methods, such as SVM and K-nearest neighbors), the error rate improves when the digits are centered by bounding box rather than center of mass. If you do this kind of pre-processing, you should report it in your publications. The MNIST database was constructed from NIST's NIST originally designated SD-3 as their training set and SD-1 as their test set. However, SD-3 is much cleaner and easier to recognize than SD-1. The reason for this can be found on the fact that SD-3 was collected among Census Bureau employees, while SD-1 was collected among high-school students. Drawing sensible conclusions from learning experiments requires that the result be independent of the choice of training set and test among the complete set of samples. Therefore it was necessary to build a new database by mixing NIST's datasets.  \\n\\nThe MNIST training set is composed of 30,000 patterns from SD-3 and 30,000 patterns from SD-1. Our test set was composed of 5,000 patterns from SD-3 and 5,000 patterns from SD-1. The 60,000 pattern training set contained examples from approximately 250 writers. We made sure that the sets of writers of the training set and test set were disjoint. SD-1 contains 58,527 digit images written by 500 different writers. In contrast to SD-3, where blocks of data from each writer appeared in sequence, the data in SD-1 is scrambled. Writer identities for SD-1 is available and we used this information to unscramble the writers. We then split SD-1 in two: characters written by the first 250 writers went into our new training set. The remaining 250 writers were placed in our test set. Thus we had two sets with nearly 30,000 examples each. The new training set was completed with enough examples from SD-3, starting at pattern # 0, to make a full set of 60,000 training patterns. Similarly, the new test set was completed with SD-3 examples starting at pattern # 35,000 to make a full set with 60,000 test patterns. Only a subset of 10,000 test images (5,000 from SD-1 and 5,000 from SD-3) is available on this site. The full 60,000 sample training set is available.\\n\\nDownloaded from openml.org.\",\n",
              " 'categories': None,\n",
              " 'data':        pixel1  pixel2  pixel3  pixel4  pixel5  pixel6  pixel7  pixel8  pixel9  \\\n",
              " 0         0.0     0.0     0.0     0.0     0.0     0.0     0.0     0.0     0.0   \n",
              " 1         0.0     0.0     0.0     0.0     0.0     0.0     0.0     0.0     0.0   \n",
              " 2         0.0     0.0     0.0     0.0     0.0     0.0     0.0     0.0     0.0   \n",
              " 3         0.0     0.0     0.0     0.0     0.0     0.0     0.0     0.0     0.0   \n",
              " 4         0.0     0.0     0.0     0.0     0.0     0.0     0.0     0.0     0.0   \n",
              " ...       ...     ...     ...     ...     ...     ...     ...     ...     ...   \n",
              " 69995     0.0     0.0     0.0     0.0     0.0     0.0     0.0     0.0     0.0   \n",
              " 69996     0.0     0.0     0.0     0.0     0.0     0.0     0.0     0.0     0.0   \n",
              " 69997     0.0     0.0     0.0     0.0     0.0     0.0     0.0     0.0     0.0   \n",
              " 69998     0.0     0.0     0.0     0.0     0.0     0.0     0.0     0.0     0.0   \n",
              " 69999     0.0     0.0     0.0     0.0     0.0     0.0     0.0     0.0     0.0   \n",
              " \n",
              "        pixel10  ...  pixel775  pixel776  pixel777  pixel778  pixel779  \\\n",
              " 0          0.0  ...       0.0       0.0       0.0       0.0       0.0   \n",
              " 1          0.0  ...       0.0       0.0       0.0       0.0       0.0   \n",
              " 2          0.0  ...       0.0       0.0       0.0       0.0       0.0   \n",
              " 3          0.0  ...       0.0       0.0       0.0       0.0       0.0   \n",
              " 4          0.0  ...       0.0       0.0       0.0       0.0       0.0   \n",
              " ...        ...  ...       ...       ...       ...       ...       ...   \n",
              " 69995      0.0  ...       0.0       0.0       0.0       0.0       0.0   \n",
              " 69996      0.0  ...       0.0       0.0       0.0       0.0       0.0   \n",
              " 69997      0.0  ...       0.0       0.0       0.0       0.0       0.0   \n",
              " 69998      0.0  ...       0.0       0.0       0.0       0.0       0.0   \n",
              " 69999      0.0  ...       0.0       0.0       0.0       0.0       0.0   \n",
              " \n",
              "        pixel780  pixel781  pixel782  pixel783  pixel784  \n",
              " 0           0.0       0.0       0.0       0.0       0.0  \n",
              " 1           0.0       0.0       0.0       0.0       0.0  \n",
              " 2           0.0       0.0       0.0       0.0       0.0  \n",
              " 3           0.0       0.0       0.0       0.0       0.0  \n",
              " 4           0.0       0.0       0.0       0.0       0.0  \n",
              " ...         ...       ...       ...       ...       ...  \n",
              " 69995       0.0       0.0       0.0       0.0       0.0  \n",
              " 69996       0.0       0.0       0.0       0.0       0.0  \n",
              " 69997       0.0       0.0       0.0       0.0       0.0  \n",
              " 69998       0.0       0.0       0.0       0.0       0.0  \n",
              " 69999       0.0       0.0       0.0       0.0       0.0  \n",
              " \n",
              " [70000 rows x 784 columns],\n",
              " 'details': {'creator': ['Yann LeCun',\n",
              "   'Corinna Cortes',\n",
              "   'Christopher J.C. Burges'],\n",
              "  'default_target_attribute': 'class',\n",
              "  'description_version': '1',\n",
              "  'file_id': '52667',\n",
              "  'format': 'ARFF',\n",
              "  'id': '554',\n",
              "  'language': 'English',\n",
              "  'licence': 'Public',\n",
              "  'md5_checksum': '0298d579eb1b86163de7723944c7e495',\n",
              "  'minio_url': 'http://openml1.win.tue.nl/dataset554/dataset_554.pq',\n",
              "  'name': 'mnist_784',\n",
              "  'processing_date': '2020-11-20 20:12:09',\n",
              "  'status': 'active',\n",
              "  'tag': ['AzurePilot',\n",
              "   'OpenML-CC18',\n",
              "   'OpenML100',\n",
              "   'study_1',\n",
              "   'study_123',\n",
              "   'study_41',\n",
              "   'study_99',\n",
              "   'vision'],\n",
              "  'upload_date': '2014-09-29T03:28:38',\n",
              "  'url': 'https://old.openml.org/data/v1/download/52667/mnist_784.arff',\n",
              "  'version': '1',\n",
              "  'visibility': 'public'},\n",
              " 'feature_names': ['pixel1',\n",
              "  'pixel2',\n",
              "  'pixel3',\n",
              "  'pixel4',\n",
              "  'pixel5',\n",
              "  'pixel6',\n",
              "  'pixel7',\n",
              "  'pixel8',\n",
              "  'pixel9',\n",
              "  'pixel10',\n",
              "  'pixel11',\n",
              "  'pixel12',\n",
              "  'pixel13',\n",
              "  'pixel14',\n",
              "  'pixel15',\n",
              "  'pixel16',\n",
              "  'pixel17',\n",
              "  'pixel18',\n",
              "  'pixel19',\n",
              "  'pixel20',\n",
              "  'pixel21',\n",
              "  'pixel22',\n",
              "  'pixel23',\n",
              "  'pixel24',\n",
              "  'pixel25',\n",
              "  'pixel26',\n",
              "  'pixel27',\n",
              "  'pixel28',\n",
              "  'pixel29',\n",
              "  'pixel30',\n",
              "  'pixel31',\n",
              "  'pixel32',\n",
              "  'pixel33',\n",
              "  'pixel34',\n",
              "  'pixel35',\n",
              "  'pixel36',\n",
              "  'pixel37',\n",
              "  'pixel38',\n",
              "  'pixel39',\n",
              "  'pixel40',\n",
              "  'pixel41',\n",
              "  'pixel42',\n",
              "  'pixel43',\n",
              "  'pixel44',\n",
              "  'pixel45',\n",
              "  'pixel46',\n",
              "  'pixel47',\n",
              "  'pixel48',\n",
              "  'pixel49',\n",
              "  'pixel50',\n",
              "  'pixel51',\n",
              "  'pixel52',\n",
              "  'pixel53',\n",
              "  'pixel54',\n",
              "  'pixel55',\n",
              "  'pixel56',\n",
              "  'pixel57',\n",
              "  'pixel58',\n",
              "  'pixel59',\n",
              "  'pixel60',\n",
              "  'pixel61',\n",
              "  'pixel62',\n",
              "  'pixel63',\n",
              "  'pixel64',\n",
              "  'pixel65',\n",
              "  'pixel66',\n",
              "  'pixel67',\n",
              "  'pixel68',\n",
              "  'pixel69',\n",
              "  'pixel70',\n",
              "  'pixel71',\n",
              "  'pixel72',\n",
              "  'pixel73',\n",
              "  'pixel74',\n",
              "  'pixel75',\n",
              "  'pixel76',\n",
              "  'pixel77',\n",
              "  'pixel78',\n",
              "  'pixel79',\n",
              "  'pixel80',\n",
              "  'pixel81',\n",
              "  'pixel82',\n",
              "  'pixel83',\n",
              "  'pixel84',\n",
              "  'pixel85',\n",
              "  'pixel86',\n",
              "  'pixel87',\n",
              "  'pixel88',\n",
              "  'pixel89',\n",
              "  'pixel90',\n",
              "  'pixel91',\n",
              "  'pixel92',\n",
              "  'pixel93',\n",
              "  'pixel94',\n",
              "  'pixel95',\n",
              "  'pixel96',\n",
              "  'pixel97',\n",
              "  'pixel98',\n",
              "  'pixel99',\n",
              "  'pixel100',\n",
              "  'pixel101',\n",
              "  'pixel102',\n",
              "  'pixel103',\n",
              "  'pixel104',\n",
              "  'pixel105',\n",
              "  'pixel106',\n",
              "  'pixel107',\n",
              "  'pixel108',\n",
              "  'pixel109',\n",
              "  'pixel110',\n",
              "  'pixel111',\n",
              "  'pixel112',\n",
              "  'pixel113',\n",
              "  'pixel114',\n",
              "  'pixel115',\n",
              "  'pixel116',\n",
              "  'pixel117',\n",
              "  'pixel118',\n",
              "  'pixel119',\n",
              "  'pixel120',\n",
              "  'pixel121',\n",
              "  'pixel122',\n",
              "  'pixel123',\n",
              "  'pixel124',\n",
              "  'pixel125',\n",
              "  'pixel126',\n",
              "  'pixel127',\n",
              "  'pixel128',\n",
              "  'pixel129',\n",
              "  'pixel130',\n",
              "  'pixel131',\n",
              "  'pixel132',\n",
              "  'pixel133',\n",
              "  'pixel134',\n",
              "  'pixel135',\n",
              "  'pixel136',\n",
              "  'pixel137',\n",
              "  'pixel138',\n",
              "  'pixel139',\n",
              "  'pixel140',\n",
              "  'pixel141',\n",
              "  'pixel142',\n",
              "  'pixel143',\n",
              "  'pixel144',\n",
              "  'pixel145',\n",
              "  'pixel146',\n",
              "  'pixel147',\n",
              "  'pixel148',\n",
              "  'pixel149',\n",
              "  'pixel150',\n",
              "  'pixel151',\n",
              "  'pixel152',\n",
              "  'pixel153',\n",
              "  'pixel154',\n",
              "  'pixel155',\n",
              "  'pixel156',\n",
              "  'pixel157',\n",
              "  'pixel158',\n",
              "  'pixel159',\n",
              "  'pixel160',\n",
              "  'pixel161',\n",
              "  'pixel162',\n",
              "  'pixel163',\n",
              "  'pixel164',\n",
              "  'pixel165',\n",
              "  'pixel166',\n",
              "  'pixel167',\n",
              "  'pixel168',\n",
              "  'pixel169',\n",
              "  'pixel170',\n",
              "  'pixel171',\n",
              "  'pixel172',\n",
              "  'pixel173',\n",
              "  'pixel174',\n",
              "  'pixel175',\n",
              "  'pixel176',\n",
              "  'pixel177',\n",
              "  'pixel178',\n",
              "  'pixel179',\n",
              "  'pixel180',\n",
              "  'pixel181',\n",
              "  'pixel182',\n",
              "  'pixel183',\n",
              "  'pixel184',\n",
              "  'pixel185',\n",
              "  'pixel186',\n",
              "  'pixel187',\n",
              "  'pixel188',\n",
              "  'pixel189',\n",
              "  'pixel190',\n",
              "  'pixel191',\n",
              "  'pixel192',\n",
              "  'pixel193',\n",
              "  'pixel194',\n",
              "  'pixel195',\n",
              "  'pixel196',\n",
              "  'pixel197',\n",
              "  'pixel198',\n",
              "  'pixel199',\n",
              "  'pixel200',\n",
              "  'pixel201',\n",
              "  'pixel202',\n",
              "  'pixel203',\n",
              "  'pixel204',\n",
              "  'pixel205',\n",
              "  'pixel206',\n",
              "  'pixel207',\n",
              "  'pixel208',\n",
              "  'pixel209',\n",
              "  'pixel210',\n",
              "  'pixel211',\n",
              "  'pixel212',\n",
              "  'pixel213',\n",
              "  'pixel214',\n",
              "  'pixel215',\n",
              "  'pixel216',\n",
              "  'pixel217',\n",
              "  'pixel218',\n",
              "  'pixel219',\n",
              "  'pixel220',\n",
              "  'pixel221',\n",
              "  'pixel222',\n",
              "  'pixel223',\n",
              "  'pixel224',\n",
              "  'pixel225',\n",
              "  'pixel226',\n",
              "  'pixel227',\n",
              "  'pixel228',\n",
              "  'pixel229',\n",
              "  'pixel230',\n",
              "  'pixel231',\n",
              "  'pixel232',\n",
              "  'pixel233',\n",
              "  'pixel234',\n",
              "  'pixel235',\n",
              "  'pixel236',\n",
              "  'pixel237',\n",
              "  'pixel238',\n",
              "  'pixel239',\n",
              "  'pixel240',\n",
              "  'pixel241',\n",
              "  'pixel242',\n",
              "  'pixel243',\n",
              "  'pixel244',\n",
              "  'pixel245',\n",
              "  'pixel246',\n",
              "  'pixel247',\n",
              "  'pixel248',\n",
              "  'pixel249',\n",
              "  'pixel250',\n",
              "  'pixel251',\n",
              "  'pixel252',\n",
              "  'pixel253',\n",
              "  'pixel254',\n",
              "  'pixel255',\n",
              "  'pixel256',\n",
              "  'pixel257',\n",
              "  'pixel258',\n",
              "  'pixel259',\n",
              "  'pixel260',\n",
              "  'pixel261',\n",
              "  'pixel262',\n",
              "  'pixel263',\n",
              "  'pixel264',\n",
              "  'pixel265',\n",
              "  'pixel266',\n",
              "  'pixel267',\n",
              "  'pixel268',\n",
              "  'pixel269',\n",
              "  'pixel270',\n",
              "  'pixel271',\n",
              "  'pixel272',\n",
              "  'pixel273',\n",
              "  'pixel274',\n",
              "  'pixel275',\n",
              "  'pixel276',\n",
              "  'pixel277',\n",
              "  'pixel278',\n",
              "  'pixel279',\n",
              "  'pixel280',\n",
              "  'pixel281',\n",
              "  'pixel282',\n",
              "  'pixel283',\n",
              "  'pixel284',\n",
              "  'pixel285',\n",
              "  'pixel286',\n",
              "  'pixel287',\n",
              "  'pixel288',\n",
              "  'pixel289',\n",
              "  'pixel290',\n",
              "  'pixel291',\n",
              "  'pixel292',\n",
              "  'pixel293',\n",
              "  'pixel294',\n",
              "  'pixel295',\n",
              "  'pixel296',\n",
              "  'pixel297',\n",
              "  'pixel298',\n",
              "  'pixel299',\n",
              "  'pixel300',\n",
              "  'pixel301',\n",
              "  'pixel302',\n",
              "  'pixel303',\n",
              "  'pixel304',\n",
              "  'pixel305',\n",
              "  'pixel306',\n",
              "  'pixel307',\n",
              "  'pixel308',\n",
              "  'pixel309',\n",
              "  'pixel310',\n",
              "  'pixel311',\n",
              "  'pixel312',\n",
              "  'pixel313',\n",
              "  'pixel314',\n",
              "  'pixel315',\n",
              "  'pixel316',\n",
              "  'pixel317',\n",
              "  'pixel318',\n",
              "  'pixel319',\n",
              "  'pixel320',\n",
              "  'pixel321',\n",
              "  'pixel322',\n",
              "  'pixel323',\n",
              "  'pixel324',\n",
              "  'pixel325',\n",
              "  'pixel326',\n",
              "  'pixel327',\n",
              "  'pixel328',\n",
              "  'pixel329',\n",
              "  'pixel330',\n",
              "  'pixel331',\n",
              "  'pixel332',\n",
              "  'pixel333',\n",
              "  'pixel334',\n",
              "  'pixel335',\n",
              "  'pixel336',\n",
              "  'pixel337',\n",
              "  'pixel338',\n",
              "  'pixel339',\n",
              "  'pixel340',\n",
              "  'pixel341',\n",
              "  'pixel342',\n",
              "  'pixel343',\n",
              "  'pixel344',\n",
              "  'pixel345',\n",
              "  'pixel346',\n",
              "  'pixel347',\n",
              "  'pixel348',\n",
              "  'pixel349',\n",
              "  'pixel350',\n",
              "  'pixel351',\n",
              "  'pixel352',\n",
              "  'pixel353',\n",
              "  'pixel354',\n",
              "  'pixel355',\n",
              "  'pixel356',\n",
              "  'pixel357',\n",
              "  'pixel358',\n",
              "  'pixel359',\n",
              "  'pixel360',\n",
              "  'pixel361',\n",
              "  'pixel362',\n",
              "  'pixel363',\n",
              "  'pixel364',\n",
              "  'pixel365',\n",
              "  'pixel366',\n",
              "  'pixel367',\n",
              "  'pixel368',\n",
              "  'pixel369',\n",
              "  'pixel370',\n",
              "  'pixel371',\n",
              "  'pixel372',\n",
              "  'pixel373',\n",
              "  'pixel374',\n",
              "  'pixel375',\n",
              "  'pixel376',\n",
              "  'pixel377',\n",
              "  'pixel378',\n",
              "  'pixel379',\n",
              "  'pixel380',\n",
              "  'pixel381',\n",
              "  'pixel382',\n",
              "  'pixel383',\n",
              "  'pixel384',\n",
              "  'pixel385',\n",
              "  'pixel386',\n",
              "  'pixel387',\n",
              "  'pixel388',\n",
              "  'pixel389',\n",
              "  'pixel390',\n",
              "  'pixel391',\n",
              "  'pixel392',\n",
              "  'pixel393',\n",
              "  'pixel394',\n",
              "  'pixel395',\n",
              "  'pixel396',\n",
              "  'pixel397',\n",
              "  'pixel398',\n",
              "  'pixel399',\n",
              "  'pixel400',\n",
              "  'pixel401',\n",
              "  'pixel402',\n",
              "  'pixel403',\n",
              "  'pixel404',\n",
              "  'pixel405',\n",
              "  'pixel406',\n",
              "  'pixel407',\n",
              "  'pixel408',\n",
              "  'pixel409',\n",
              "  'pixel410',\n",
              "  'pixel411',\n",
              "  'pixel412',\n",
              "  'pixel413',\n",
              "  'pixel414',\n",
              "  'pixel415',\n",
              "  'pixel416',\n",
              "  'pixel417',\n",
              "  'pixel418',\n",
              "  'pixel419',\n",
              "  'pixel420',\n",
              "  'pixel421',\n",
              "  'pixel422',\n",
              "  'pixel423',\n",
              "  'pixel424',\n",
              "  'pixel425',\n",
              "  'pixel426',\n",
              "  'pixel427',\n",
              "  'pixel428',\n",
              "  'pixel429',\n",
              "  'pixel430',\n",
              "  'pixel431',\n",
              "  'pixel432',\n",
              "  'pixel433',\n",
              "  'pixel434',\n",
              "  'pixel435',\n",
              "  'pixel436',\n",
              "  'pixel437',\n",
              "  'pixel438',\n",
              "  'pixel439',\n",
              "  'pixel440',\n",
              "  'pixel441',\n",
              "  'pixel442',\n",
              "  'pixel443',\n",
              "  'pixel444',\n",
              "  'pixel445',\n",
              "  'pixel446',\n",
              "  'pixel447',\n",
              "  'pixel448',\n",
              "  'pixel449',\n",
              "  'pixel450',\n",
              "  'pixel451',\n",
              "  'pixel452',\n",
              "  'pixel453',\n",
              "  'pixel454',\n",
              "  'pixel455',\n",
              "  'pixel456',\n",
              "  'pixel457',\n",
              "  'pixel458',\n",
              "  'pixel459',\n",
              "  'pixel460',\n",
              "  'pixel461',\n",
              "  'pixel462',\n",
              "  'pixel463',\n",
              "  'pixel464',\n",
              "  'pixel465',\n",
              "  'pixel466',\n",
              "  'pixel467',\n",
              "  'pixel468',\n",
              "  'pixel469',\n",
              "  'pixel470',\n",
              "  'pixel471',\n",
              "  'pixel472',\n",
              "  'pixel473',\n",
              "  'pixel474',\n",
              "  'pixel475',\n",
              "  'pixel476',\n",
              "  'pixel477',\n",
              "  'pixel478',\n",
              "  'pixel479',\n",
              "  'pixel480',\n",
              "  'pixel481',\n",
              "  'pixel482',\n",
              "  'pixel483',\n",
              "  'pixel484',\n",
              "  'pixel485',\n",
              "  'pixel486',\n",
              "  'pixel487',\n",
              "  'pixel488',\n",
              "  'pixel489',\n",
              "  'pixel490',\n",
              "  'pixel491',\n",
              "  'pixel492',\n",
              "  'pixel493',\n",
              "  'pixel494',\n",
              "  'pixel495',\n",
              "  'pixel496',\n",
              "  'pixel497',\n",
              "  'pixel498',\n",
              "  'pixel499',\n",
              "  'pixel500',\n",
              "  'pixel501',\n",
              "  'pixel502',\n",
              "  'pixel503',\n",
              "  'pixel504',\n",
              "  'pixel505',\n",
              "  'pixel506',\n",
              "  'pixel507',\n",
              "  'pixel508',\n",
              "  'pixel509',\n",
              "  'pixel510',\n",
              "  'pixel511',\n",
              "  'pixel512',\n",
              "  'pixel513',\n",
              "  'pixel514',\n",
              "  'pixel515',\n",
              "  'pixel516',\n",
              "  'pixel517',\n",
              "  'pixel518',\n",
              "  'pixel519',\n",
              "  'pixel520',\n",
              "  'pixel521',\n",
              "  'pixel522',\n",
              "  'pixel523',\n",
              "  'pixel524',\n",
              "  'pixel525',\n",
              "  'pixel526',\n",
              "  'pixel527',\n",
              "  'pixel528',\n",
              "  'pixel529',\n",
              "  'pixel530',\n",
              "  'pixel531',\n",
              "  'pixel532',\n",
              "  'pixel533',\n",
              "  'pixel534',\n",
              "  'pixel535',\n",
              "  'pixel536',\n",
              "  'pixel537',\n",
              "  'pixel538',\n",
              "  'pixel539',\n",
              "  'pixel540',\n",
              "  'pixel541',\n",
              "  'pixel542',\n",
              "  'pixel543',\n",
              "  'pixel544',\n",
              "  'pixel545',\n",
              "  'pixel546',\n",
              "  'pixel547',\n",
              "  'pixel548',\n",
              "  'pixel549',\n",
              "  'pixel550',\n",
              "  'pixel551',\n",
              "  'pixel552',\n",
              "  'pixel553',\n",
              "  'pixel554',\n",
              "  'pixel555',\n",
              "  'pixel556',\n",
              "  'pixel557',\n",
              "  'pixel558',\n",
              "  'pixel559',\n",
              "  'pixel560',\n",
              "  'pixel561',\n",
              "  'pixel562',\n",
              "  'pixel563',\n",
              "  'pixel564',\n",
              "  'pixel565',\n",
              "  'pixel566',\n",
              "  'pixel567',\n",
              "  'pixel568',\n",
              "  'pixel569',\n",
              "  'pixel570',\n",
              "  'pixel571',\n",
              "  'pixel572',\n",
              "  'pixel573',\n",
              "  'pixel574',\n",
              "  'pixel575',\n",
              "  'pixel576',\n",
              "  'pixel577',\n",
              "  'pixel578',\n",
              "  'pixel579',\n",
              "  'pixel580',\n",
              "  'pixel581',\n",
              "  'pixel582',\n",
              "  'pixel583',\n",
              "  'pixel584',\n",
              "  'pixel585',\n",
              "  'pixel586',\n",
              "  'pixel587',\n",
              "  'pixel588',\n",
              "  'pixel589',\n",
              "  'pixel590',\n",
              "  'pixel591',\n",
              "  'pixel592',\n",
              "  'pixel593',\n",
              "  'pixel594',\n",
              "  'pixel595',\n",
              "  'pixel596',\n",
              "  'pixel597',\n",
              "  'pixel598',\n",
              "  'pixel599',\n",
              "  'pixel600',\n",
              "  'pixel601',\n",
              "  'pixel602',\n",
              "  'pixel603',\n",
              "  'pixel604',\n",
              "  'pixel605',\n",
              "  'pixel606',\n",
              "  'pixel607',\n",
              "  'pixel608',\n",
              "  'pixel609',\n",
              "  'pixel610',\n",
              "  'pixel611',\n",
              "  'pixel612',\n",
              "  'pixel613',\n",
              "  'pixel614',\n",
              "  'pixel615',\n",
              "  'pixel616',\n",
              "  'pixel617',\n",
              "  'pixel618',\n",
              "  'pixel619',\n",
              "  'pixel620',\n",
              "  'pixel621',\n",
              "  'pixel622',\n",
              "  'pixel623',\n",
              "  'pixel624',\n",
              "  'pixel625',\n",
              "  'pixel626',\n",
              "  'pixel627',\n",
              "  'pixel628',\n",
              "  'pixel629',\n",
              "  'pixel630',\n",
              "  'pixel631',\n",
              "  'pixel632',\n",
              "  'pixel633',\n",
              "  'pixel634',\n",
              "  'pixel635',\n",
              "  'pixel636',\n",
              "  'pixel637',\n",
              "  'pixel638',\n",
              "  'pixel639',\n",
              "  'pixel640',\n",
              "  'pixel641',\n",
              "  'pixel642',\n",
              "  'pixel643',\n",
              "  'pixel644',\n",
              "  'pixel645',\n",
              "  'pixel646',\n",
              "  'pixel647',\n",
              "  'pixel648',\n",
              "  'pixel649',\n",
              "  'pixel650',\n",
              "  'pixel651',\n",
              "  'pixel652',\n",
              "  'pixel653',\n",
              "  'pixel654',\n",
              "  'pixel655',\n",
              "  'pixel656',\n",
              "  'pixel657',\n",
              "  'pixel658',\n",
              "  'pixel659',\n",
              "  'pixel660',\n",
              "  'pixel661',\n",
              "  'pixel662',\n",
              "  'pixel663',\n",
              "  'pixel664',\n",
              "  'pixel665',\n",
              "  'pixel666',\n",
              "  'pixel667',\n",
              "  'pixel668',\n",
              "  'pixel669',\n",
              "  'pixel670',\n",
              "  'pixel671',\n",
              "  'pixel672',\n",
              "  'pixel673',\n",
              "  'pixel674',\n",
              "  'pixel675',\n",
              "  'pixel676',\n",
              "  'pixel677',\n",
              "  'pixel678',\n",
              "  'pixel679',\n",
              "  'pixel680',\n",
              "  'pixel681',\n",
              "  'pixel682',\n",
              "  'pixel683',\n",
              "  'pixel684',\n",
              "  'pixel685',\n",
              "  'pixel686',\n",
              "  'pixel687',\n",
              "  'pixel688',\n",
              "  'pixel689',\n",
              "  'pixel690',\n",
              "  'pixel691',\n",
              "  'pixel692',\n",
              "  'pixel693',\n",
              "  'pixel694',\n",
              "  'pixel695',\n",
              "  'pixel696',\n",
              "  'pixel697',\n",
              "  'pixel698',\n",
              "  'pixel699',\n",
              "  'pixel700',\n",
              "  'pixel701',\n",
              "  'pixel702',\n",
              "  'pixel703',\n",
              "  'pixel704',\n",
              "  'pixel705',\n",
              "  'pixel706',\n",
              "  'pixel707',\n",
              "  'pixel708',\n",
              "  'pixel709',\n",
              "  'pixel710',\n",
              "  'pixel711',\n",
              "  'pixel712',\n",
              "  'pixel713',\n",
              "  'pixel714',\n",
              "  'pixel715',\n",
              "  'pixel716',\n",
              "  'pixel717',\n",
              "  'pixel718',\n",
              "  'pixel719',\n",
              "  'pixel720',\n",
              "  'pixel721',\n",
              "  'pixel722',\n",
              "  'pixel723',\n",
              "  'pixel724',\n",
              "  'pixel725',\n",
              "  'pixel726',\n",
              "  'pixel727',\n",
              "  'pixel728',\n",
              "  'pixel729',\n",
              "  'pixel730',\n",
              "  'pixel731',\n",
              "  'pixel732',\n",
              "  'pixel733',\n",
              "  'pixel734',\n",
              "  'pixel735',\n",
              "  'pixel736',\n",
              "  'pixel737',\n",
              "  'pixel738',\n",
              "  'pixel739',\n",
              "  'pixel740',\n",
              "  'pixel741',\n",
              "  'pixel742',\n",
              "  'pixel743',\n",
              "  'pixel744',\n",
              "  'pixel745',\n",
              "  'pixel746',\n",
              "  'pixel747',\n",
              "  'pixel748',\n",
              "  'pixel749',\n",
              "  'pixel750',\n",
              "  'pixel751',\n",
              "  'pixel752',\n",
              "  'pixel753',\n",
              "  'pixel754',\n",
              "  'pixel755',\n",
              "  'pixel756',\n",
              "  'pixel757',\n",
              "  'pixel758',\n",
              "  'pixel759',\n",
              "  'pixel760',\n",
              "  'pixel761',\n",
              "  'pixel762',\n",
              "  'pixel763',\n",
              "  'pixel764',\n",
              "  'pixel765',\n",
              "  'pixel766',\n",
              "  'pixel767',\n",
              "  'pixel768',\n",
              "  'pixel769',\n",
              "  'pixel770',\n",
              "  'pixel771',\n",
              "  'pixel772',\n",
              "  'pixel773',\n",
              "  'pixel774',\n",
              "  'pixel775',\n",
              "  'pixel776',\n",
              "  'pixel777',\n",
              "  'pixel778',\n",
              "  'pixel779',\n",
              "  'pixel780',\n",
              "  'pixel781',\n",
              "  'pixel782',\n",
              "  'pixel783',\n",
              "  'pixel784'],\n",
              " 'frame':        pixel1  pixel2  pixel3  pixel4  pixel5  pixel6  pixel7  pixel8  pixel9  \\\n",
              " 0         0.0     0.0     0.0     0.0     0.0     0.0     0.0     0.0     0.0   \n",
              " 1         0.0     0.0     0.0     0.0     0.0     0.0     0.0     0.0     0.0   \n",
              " 2         0.0     0.0     0.0     0.0     0.0     0.0     0.0     0.0     0.0   \n",
              " 3         0.0     0.0     0.0     0.0     0.0     0.0     0.0     0.0     0.0   \n",
              " 4         0.0     0.0     0.0     0.0     0.0     0.0     0.0     0.0     0.0   \n",
              " ...       ...     ...     ...     ...     ...     ...     ...     ...     ...   \n",
              " 69995     0.0     0.0     0.0     0.0     0.0     0.0     0.0     0.0     0.0   \n",
              " 69996     0.0     0.0     0.0     0.0     0.0     0.0     0.0     0.0     0.0   \n",
              " 69997     0.0     0.0     0.0     0.0     0.0     0.0     0.0     0.0     0.0   \n",
              " 69998     0.0     0.0     0.0     0.0     0.0     0.0     0.0     0.0     0.0   \n",
              " 69999     0.0     0.0     0.0     0.0     0.0     0.0     0.0     0.0     0.0   \n",
              " \n",
              "        pixel10  ...  pixel776  pixel777  pixel778  pixel779  pixel780  \\\n",
              " 0          0.0  ...       0.0       0.0       0.0       0.0       0.0   \n",
              " 1          0.0  ...       0.0       0.0       0.0       0.0       0.0   \n",
              " 2          0.0  ...       0.0       0.0       0.0       0.0       0.0   \n",
              " 3          0.0  ...       0.0       0.0       0.0       0.0       0.0   \n",
              " 4          0.0  ...       0.0       0.0       0.0       0.0       0.0   \n",
              " ...        ...  ...       ...       ...       ...       ...       ...   \n",
              " 69995      0.0  ...       0.0       0.0       0.0       0.0       0.0   \n",
              " 69996      0.0  ...       0.0       0.0       0.0       0.0       0.0   \n",
              " 69997      0.0  ...       0.0       0.0       0.0       0.0       0.0   \n",
              " 69998      0.0  ...       0.0       0.0       0.0       0.0       0.0   \n",
              " 69999      0.0  ...       0.0       0.0       0.0       0.0       0.0   \n",
              " \n",
              "        pixel781  pixel782  pixel783  pixel784  class  \n",
              " 0           0.0       0.0       0.0       0.0      5  \n",
              " 1           0.0       0.0       0.0       0.0      0  \n",
              " 2           0.0       0.0       0.0       0.0      4  \n",
              " 3           0.0       0.0       0.0       0.0      1  \n",
              " 4           0.0       0.0       0.0       0.0      9  \n",
              " ...         ...       ...       ...       ...    ...  \n",
              " 69995       0.0       0.0       0.0       0.0      2  \n",
              " 69996       0.0       0.0       0.0       0.0      3  \n",
              " 69997       0.0       0.0       0.0       0.0      4  \n",
              " 69998       0.0       0.0       0.0       0.0      5  \n",
              " 69999       0.0       0.0       0.0       0.0      6  \n",
              " \n",
              " [70000 rows x 785 columns],\n",
              " 'target': 0        5\n",
              " 1        0\n",
              " 2        4\n",
              " 3        1\n",
              " 4        9\n",
              "         ..\n",
              " 69995    2\n",
              " 69996    3\n",
              " 69997    4\n",
              " 69998    5\n",
              " 69999    6\n",
              " Name: class, Length: 70000, dtype: category\n",
              " Categories (10, object): ['0', '1', '2', '3', ..., '6', '7', '8', '9'],\n",
              " 'target_names': ['class'],\n",
              " 'url': 'https://www.openml.org/d/554'}"
            ]
          },
          "metadata": {},
          "execution_count": 2
        }
      ],
      "source": [
        "#Visualizing the structure of the loaded data\n",
        "\n",
        "mnist_data"
      ]
    },
    {
      "cell_type": "markdown",
      "metadata": {
        "id": "Ckp0lp4Js4YH"
      },
      "source": [
        "From the output of the cell above, we can see that the dataset consists of 70000 samples and 784 features. The 784 feature represents the number of pixels per image (28*28). The samples and features are saved in 'data'. And the labels of these samples are saved in 'target'. The labels take the values from 0 to 9 corresponding to the 10 classes of the 10 digits from 0 to 9. You can further check and explore the data structure above. \n",
        "\n",
        "The next step we can do is to reshape the data into the form of images and visualize these images."
      ]
    },
    {
      "cell_type": "code",
      "execution_count": 3,
      "metadata": {
        "colab": {
          "base_uri": "https://localhost:8080/",
          "height": 467
        },
        "id": "Bvfdvcewud08",
        "outputId": "d656cce3-53fc-4b49-d6b7-db45f79b15cc"
      },
      "outputs": [
        {
          "output_type": "display_data",
          "data": {
            "text/plain": [
              "<Figure size 864x576 with 15 Axes>"
            ],
            "image/png": "[encoded data removed]"
          },
          "metadata": {}
        }
      ],
      "source": [
        "#Reshaping the data and visualizing the images\n",
        "\n",
        "import numpy as np\n",
        "import matplotlib.pyplot as plt\n",
        "\n",
        "mnist_data_arr = np.array(mnist_data.data)\n",
        "mnist_images = np.reshape(mnist_data_arr, (70000, 28, 28))\n",
        "\n",
        "fig, ax = plt.subplots(3, 5, figsize=(12, 8))\n",
        "for i, axi in enumerate(ax.flat):\n",
        "    axi.imshow(mnist_images[i], cmap='gray')\n",
        "    axi.set(xticks=[], yticks=[],xlabel=mnist_data.target.values[i])"
      ]
    },
    {
      "cell_type": "markdown",
      "metadata": {
        "id": "h6WkfNnoqlE9"
      },
      "source": [
        "After visualizing our images, we can check the numerical values used in representing each image. "
      ]
    },
    {
      "cell_type": "code",
      "execution_count": 4,
      "metadata": {
        "colab": {
          "base_uri": "https://localhost:8080/"
        },
        "id": "X9AfhoO1qzDh",
        "outputId": "b532b158-d6bc-4184-90f1-df9967f51621"
      },
      "outputs": [
        {
          "output_type": "stream",
          "name": "stdout",
          "text": [
            "[[  0.   0.   0.   0.   0.   0.   0.   0.   0.   0.   0.   0.   0.   0.\n",
            "    0.   0.   0.   0.   0.   0.   0.   0.   0.   0.   0.   0.   0.   0.]\n",
            " [  0.   0.   0.   0.   0.   0.   0.   0.   0.   0.   0.   0.   0.   0.\n",
            "    0.   0.   0.   0.   0.   0.   0.   0.   0.   0.   0.   0.   0.   0.]\n",
            " [  0.   0.   0.   0.   0.   0.   0.   0.   0.   0.   0.   0.   0.   0.\n",
            "    0.   0.   0.   0.   0.   0.   0.   0.   0.   0.   0.   0.   0.   0.]\n",
            " [  0.   0.   0.   0.   0.   0.   0.   0.   0.   0.   0.   0.   0.   0.\n",
            "    0.   0.   0.   0.   0.   0.   0.   0.   0.   0.   0.   0.   0.   0.]\n",
            " [  0.   0.   0.   0.   0.   0.   0.   0.   0.   0.   0.   0.   0.   0.\n",
            "    0.   0.   0.   0.   0.   0.   0.   0.   0.   0.   0.   0.   0.   0.]\n",
            " [  0.   0.   0.   0.   0.   0.   0.   0.   0.   0.   0.   0.   3.  18.\n",
            "   18.  18. 126. 136. 175.  26. 166. 255. 247. 127.   0.   0.   0.   0.]\n",
            " [  0.   0.   0.   0.   0.   0.   0.   0.  30.  36.  94. 154. 170. 253.\n",
            "  253. 253. 253. 253. 225. 172. 253. 242. 195.  64.   0.   0.   0.   0.]\n",
            " [  0.   0.   0.   0.   0.   0.   0.  49. 238. 253. 253. 253. 253. 253.\n",
            "  253. 253. 253. 251.  93.  82.  82.  56.  39.   0.   0.   0.   0.   0.]\n",
            " [  0.   0.   0.   0.   0.   0.   0.  18. 219. 253. 253. 253. 253. 253.\n",
            "  198. 182. 247. 241.   0.   0.   0.   0.   0.   0.   0.   0.   0.   0.]\n",
            " [  0.   0.   0.   0.   0.   0.   0.   0.  80. 156. 107. 253. 253. 205.\n",
            "   11.   0.  43. 154.   0.   0.   0.   0.   0.   0.   0.   0.   0.   0.]\n",
            " [  0.   0.   0.   0.   0.   0.   0.   0.   0.  14.   1. 154. 253.  90.\n",
            "    0.   0.   0.   0.   0.   0.   0.   0.   0.   0.   0.   0.   0.   0.]\n",
            " [  0.   0.   0.   0.   0.   0.   0.   0.   0.   0.   0. 139. 253. 190.\n",
            "    2.   0.   0.   0.   0.   0.   0.   0.   0.   0.   0.   0.   0.   0.]\n",
            " [  0.   0.   0.   0.   0.   0.   0.   0.   0.   0.   0.  11. 190. 253.\n",
            "   70.   0.   0.   0.   0.   0.   0.   0.   0.   0.   0.   0.   0.   0.]\n",
            " [  0.   0.   0.   0.   0.   0.   0.   0.   0.   0.   0.   0.  35. 241.\n",
            "  225. 160. 108.   1.   0.   0.   0.   0.   0.   0.   0.   0.   0.   0.]\n",
            " [  0.   0.   0.   0.   0.   0.   0.   0.   0.   0.   0.   0.   0.  81.\n",
            "  240. 253. 253. 119.  25.   0.   0.   0.   0.   0.   0.   0.   0.   0.]\n",
            " [  0.   0.   0.   0.   0.   0.   0.   0.   0.   0.   0.   0.   0.   0.\n",
            "   45. 186. 253. 253. 150.  27.   0.   0.   0.   0.   0.   0.   0.   0.]\n",
            " [  0.   0.   0.   0.   0.   0.   0.   0.   0.   0.   0.   0.   0.   0.\n",
            "    0.  16.  93. 252. 253. 187.   0.   0.   0.   0.   0.   0.   0.   0.]\n",
            " [  0.   0.   0.   0.   0.   0.   0.   0.   0.   0.   0.   0.   0.   0.\n",
            "    0.   0.   0. 249. 253. 249.  64.   0.   0.   0.   0.   0.   0.   0.]\n",
            " [  0.   0.   0.   0.   0.   0.   0.   0.   0.   0.   0.   0.   0.   0.\n",
            "   46. 130. 183. 253. 253. 207.   2.   0.   0.   0.   0.   0.   0.   0.]\n",
            " [  0.   0.   0.   0.   0.   0.   0.   0.   0.   0.   0.   0.  39. 148.\n",
            "  229. 253. 253. 253. 250. 182.   0.   0.   0.   0.   0.   0.   0.   0.]\n",
            " [  0.   0.   0.   0.   0.   0.   0.   0.   0.   0.  24. 114. 221. 253.\n",
            "  253. 253. 253. 201.  78.   0.   0.   0.   0.   0.   0.   0.   0.   0.]\n",
            " [  0.   0.   0.   0.   0.   0.   0.   0.  23.  66. 213. 253. 253. 253.\n",
            "  253. 198.  81.   2.   0.   0.   0.   0.   0.   0.   0.   0.   0.   0.]\n",
            " [  0.   0.   0.   0.   0.   0.  18. 171. 219. 253. 253. 253. 253. 195.\n",
            "   80.   9.   0.   0.   0.   0.   0.   0.   0.   0.   0.   0.   0.   0.]\n",
            " [  0.   0.   0.   0.  55. 172. 226. 253. 253. 253. 253. 244. 133.  11.\n",
            "    0.   0.   0.   0.   0.   0.   0.   0.   0.   0.   0.   0.   0.   0.]\n",
            " [  0.   0.   0.   0. 136. 253. 253. 253. 212. 135. 132.  16.   0.   0.\n",
            "    0.   0.   0.   0.   0.   0.   0.   0.   0.   0.   0.   0.   0.   0.]\n",
            " [  0.   0.   0.   0.   0.   0.   0.   0.   0.   0.   0.   0.   0.   0.\n",
            "    0.   0.   0.   0.   0.   0.   0.   0.   0.   0.   0.   0.   0.   0.]\n",
            " [  0.   0.   0.   0.   0.   0.   0.   0.   0.   0.   0.   0.   0.   0.\n",
            "    0.   0.   0.   0.   0.   0.   0.   0.   0.   0.   0.   0.   0.   0.]\n",
            " [  0.   0.   0.   0.   0.   0.   0.   0.   0.   0.   0.   0.   0.   0.\n",
            "    0.   0.   0.   0.   0.   0.   0.   0.   0.   0.   0.   0.   0.   0.]]\n"
          ]
        }
      ],
      "source": [
        "#Displaying the numerical values of the images\n",
        "\n",
        "print(mnist_images[0])"
      ]
    },
    {
      "cell_type": "markdown",
      "metadata": {
        "id": "kDY9-8-drAAQ"
      },
      "source": [
        "From the above display, we can see that the scale of the images is from 0 to 255. \n",
        "\n",
        "Now, let's see the structure of the labels to know how the labels are organized. This may help us if we need to split the data in a specific way for training, validation, and testing purposes."
      ]
    },
    {
      "cell_type": "code",
      "execution_count": 5,
      "metadata": {
        "colab": {
          "base_uri": "https://localhost:8080/"
        },
        "id": "w9j3v3wWvtyj",
        "outputId": "1870d91a-5aff-4cd0-f5bf-e78628f30a66"
      },
      "outputs": [
        {
          "output_type": "stream",
          "name": "stdout",
          "text": [
            "['5', '0', '4', '1', '9', ..., '3', '4', '4', '7', '5']\n",
            "Length: 900\n",
            "Categories (10, object): ['0', '1', '2', '3', ..., '6', '7', '8', '9']\n"
          ]
        }
      ],
      "source": [
        "#Printing the first 900 sample of the labels to see their structure\n",
        "\n",
        "print(mnist_data.target.values[:900])"
      ]
    },
    {
      "cell_type": "markdown",
      "metadata": {
        "id": "_M8uvZcQwxzn"
      },
      "source": [
        "After printing the structure of the labels, we can notice that first, we need to convert the target to a NumPy array for easier data reading and manipulation. "
      ]
    },
    {
      "cell_type": "code",
      "execution_count": 6,
      "metadata": {
        "colab": {
          "base_uri": "https://localhost:8080/"
        },
        "id": "Btd3s4-sww3N",
        "outputId": "f6560e6d-b687-4ca7-9f9e-8232cf88022a"
      },
      "outputs": [
        {
          "output_type": "stream",
          "name": "stdout",
          "text": [
            "['5' '0' '4' '1' '9' '2' '1' '3' '1' '4' '3' '5' '3' '6' '1' '7' '2' '8'\n",
            " '6' '9' '4' '0' '9' '1' '1' '2' '4' '3' '2' '7' '3' '8' '6' '9' '0' '5'\n",
            " '6' '0' '7' '6' '1' '8' '7' '9' '3' '9' '8' '5' '9' '3' '3' '0' '7' '4'\n",
            " '9' '8' '0' '9' '4' '1' '4' '4' '6' '0' '4' '5' '6' '1' '0' '0' '1' '7'\n",
            " '1' '6' '3' '0' '2' '1' '1' '7' '9' '0' '2' '6' '7' '8' '3' '9' '0' '4'\n",
            " '6' '7' '4' '6' '8' '0' '7' '8' '3' '1' '5' '7' '1' '7' '1' '1' '6' '3'\n",
            " '0' '2' '9' '3' '1' '1' '0' '4' '9' '2' '0' '0' '2' '0' '2' '7' '1' '8'\n",
            " '6' '4' '1' '6' '3' '4' '5' '9' '1' '3' '3' '8' '5' '4' '7' '7' '4' '2'\n",
            " '8' '5' '8' '6' '7' '3' '4' '6' '1' '9' '9' '6' '0' '3' '7' '2' '8' '2'\n",
            " '9' '4' '4' '6' '4' '9' '7' '0' '9' '2' '9' '5' '1' '5' '9' '1' '2' '3'\n",
            " '2' '3' '5' '9' '1' '7' '6' '2' '8' '2' '2' '5' '0' '7' '4' '9' '7' '8'\n",
            " '3' '2' '1' '1' '8' '3' '6' '1' '0' '3' '1' '0' '0' '1' '7' '2' '7' '3'\n",
            " '0' '4' '6' '5' '2' '6' '4' '7' '1' '8' '9' '9' '3' '0' '7' '1' '0' '2'\n",
            " '0' '3' '5' '4' '6' '5' '8' '6' '3' '7' '5' '8' '0' '9' '1' '0' '3' '1'\n",
            " '2' '2' '3' '3' '6' '4' '7' '5' '0' '6' '2' '7' '9' '8' '5' '9' '2' '1'\n",
            " '1' '4' '4' '5' '6' '4' '1' '2' '5' '3' '9' '3' '9' '0' '5' '9' '6' '5'\n",
            " '7' '4' '1' '3' '4' '0' '4' '8' '0' '4' '3' '6' '8' '7' '6' '0' '9' '7'\n",
            " '5' '7' '2' '1' '1' '6' '8' '9' '4' '1' '5' '2' '2' '9' '0' '3' '9' '6'\n",
            " '7' '2' '0' '3' '5' '4' '3' '6' '5' '8' '9' '5' '4' '7' '4' '2' '7' '3'\n",
            " '4' '8' '9' '1' '9' '2' '8' '7' '9' '1' '8' '7' '4' '1' '3' '1' '1' '0'\n",
            " '2' '3' '9' '4' '9' '2' '1' '6' '8' '4' '7' '7' '4' '4' '9' '2' '5' '7'\n",
            " '2' '4' '4' '2' '1' '9' '7' '2' '8' '7' '6' '9' '2' '2' '3' '8' '1' '6'\n",
            " '5' '1' '1' '0' '2' '6' '4' '5' '8' '3' '1' '5' '1' '9' '2' '7' '4' '4'\n",
            " '4' '8' '1' '5' '8' '9' '5' '6' '7' '9' '9' '3' '7' '0' '9' '0' '6' '6'\n",
            " '2' '3' '9' '0' '7' '5' '4' '8' '0' '9' '4' '1' '2' '8' '7' '1' '2' '6'\n",
            " '1' '0' '3' '0' '1' '1' '8' '2' '0' '3' '9' '4' '0' '5' '0' '6' '1' '7'\n",
            " '7' '8' '1' '9' '2' '0' '5' '1' '2' '2' '7' '3' '5' '4' '9' '7' '1' '8'\n",
            " '3' '9' '6' '0' '3' '1' '1' '2' '6' '3' '5' '7' '6' '8' '3' '9' '5' '8'\n",
            " '5' '7' '6' '1' '1' '3' '1' '7' '5' '5' '5' '2' '5' '8' '7' '0' '9' '7'\n",
            " '7' '5' '0' '9' '0' '0' '8' '9' '2' '4' '8' '1' '6' '1' '6' '5' '1' '8'\n",
            " '3' '4' '0' '5' '5' '8' '3' '6' '2' '3' '9' '2' '1' '1' '5' '2' '1' '3'\n",
            " '2' '8' '7' '3' '7' '2' '4' '6' '9' '7' '2' '4' '2' '8' '1' '1' '3' '8'\n",
            " '4' '0' '6' '5' '9' '3' '0' '9' '2' '4' '7' '1' '2' '9' '4' '2' '6' '1'\n",
            " '8' '9' '0' '6' '6' '7' '9' '9' '8' '0' '1' '4' '4' '6' '7' '1' '5' '7'\n",
            " '0' '3' '5' '8' '4' '7' '1' '2' '5' '9' '5' '6' '7' '5' '9' '8' '8' '3'\n",
            " '6' '9' '7' '0' '7' '5' '7' '1' '1' '0' '7' '9' '2' '3' '7' '3' '2' '4'\n",
            " '1' '6' '2' '7' '5' '5' '7' '4' '0' '2' '6' '3' '6' '4' '0' '4' '2' '6'\n",
            " '0' '0' '0' '0' '3' '1' '6' '2' '2' '3' '1' '4' '1' '5' '4' '6' '4' '7'\n",
            " '2' '8' '7' '9' '2' '0' '5' '1' '4' '2' '8' '3' '2' '4' '1' '5' '4' '6'\n",
            " '0' '7' '9' '8' '4' '9' '8' '0' '1' '1' '0' '2' '2' '3' '2' '4' '4' '5'\n",
            " '8' '6' '5' '7' '7' '8' '8' '9' '7' '4' '7' '3' '2' '0' '8' '6' '8' '6'\n",
            " '1' '6' '8' '9' '4' '0' '9' '0' '4' '1' '5' '4' '7' '5' '3' '7' '4' '9'\n",
            " '8' '5' '8' '6' '3' '8' '6' '9' '9' '1' '8' '3' '5' '8' '6' '5' '9' '7'\n",
            " '2' '5' '0' '8' '5' '1' '1' '0' '9' '1' '8' '6' '7' '0' '9' '3' '0' '8'\n",
            " '8' '9' '6' '7' '8' '4' '7' '5' '9' '2' '6' '7' '4' '5' '9' '2' '3' '1'\n",
            " '6' '3' '9' '2' '2' '5' '6' '8' '0' '7' '7' '1' '9' '8' '7' '0' '9' '9'\n",
            " '4' '6' '2' '8' '5' '1' '4' '1' '5' '5' '1' '7' '3' '6' '4' '3' '2' '5'\n",
            " '6' '4' '4' '0' '4' '4' '6' '7' '2' '4' '3' '3' '8' '0' '0' '3' '2' '2'\n",
            " '9' '8' '2' '3' '7' '0' '1' '1' '0' '2' '3' '3' '8' '4' '3' '5' '7' '6'\n",
            " '4' '7' '7' '8' '5' '9' '7' '0' '3' '1' '6' '2' '4' '3' '4' '4' '7' '5']\n"
          ]
        }
      ],
      "source": [
        "#Converting the labels array into a NumPy array\n",
        "\n",
        "mnist_labels = np.array(mnist_data.target.values)\n",
        "print(mnist_labels[0:900])"
      ]
    },
    {
      "cell_type": "markdown",
      "metadata": {
        "id": "rSN3m3pBxMZg"
      },
      "source": [
        "Now, the labels are saved in a NumPy array. Another step we can do is to convert the type of the labels from 'string' to 'integer' (this is an optional step as usually the classifier can deal with class labels in the type of 'strings')."
      ]
    },
    {
      "cell_type": "code",
      "execution_count": 7,
      "metadata": {
        "colab": {
          "base_uri": "https://localhost:8080/"
        },
        "id": "aZqFqpwIx-Rv",
        "outputId": "f0dd80df-4377-4a2b-f835-4c94b51f2f64"
      },
      "outputs": [
        {
          "output_type": "stream",
          "name": "stdout",
          "text": [
            "[5 0 4 1 9 2 1 3 1 4 3 5 3 6 1 7 2 8 6 9 4 0 9 1 1 2 4 3 2 7 3 8 6 9 0 5 6\n",
            " 0 7 6 1 8 7 9 3 9 8 5 9 3 3 0 7 4 9 8 0 9 4 1 4 4 6 0 4 5 6 1 0 0 1 7 1 6\n",
            " 3 0 2 1 1 7 9 0 2 6 7 8 3 9 0 4 6 7 4 6 8 0 7 8 3 1 5 7 1 7 1 1 6 3 0 2 9\n",
            " 3 1 1 0 4 9 2 0 0 2 0 2 7 1 8 6 4 1 6 3 4 5 9 1 3 3 8 5 4 7 7 4 2 8 5 8 6\n",
            " 7 3 4 6 1 9 9 6 0 3 7 2 8 2 9 4 4 6 4 9 7 0 9 2 9 5 1 5 9 1 2 3 2 3 5 9 1\n",
            " 7 6 2 8 2 2 5 0 7 4 9 7 8 3 2 1 1 8 3 6 1 0 3 1 0 0 1 7 2 7 3 0 4 6 5 2 6\n",
            " 4 7 1 8 9 9 3 0 7 1 0 2 0 3 5 4 6 5 8 6 3 7 5 8 0 9 1 0 3 1 2 2 3 3 6 4 7\n",
            " 5 0 6 2 7 9 8 5 9 2 1 1 4 4 5 6 4 1 2 5 3 9 3 9 0 5 9 6 5 7 4 1 3 4 0 4 8\n",
            " 0 4 3 6 8 7 6 0 9 7 5 7 2 1 1 6 8 9 4 1 5 2 2 9 0 3 9 6 7 2 0 3 5 4 3 6 5\n",
            " 8 9 5 4 7 4 2 7 3 4 8 9 1 9 2 8 7 9 1 8 7 4 1 3 1 1 0 2 3 9 4 9 2 1 6 8 4\n",
            " 7 7 4 4 9 2 5 7 2 4 4 2 1 9 7 2 8 7 6 9 2 2 3 8 1 6 5 1 1 0 2 6 4 5 8 3 1\n",
            " 5 1 9 2 7 4 4 4 8 1 5 8 9 5 6 7 9 9 3 7 0 9 0 6 6 2 3 9 0 7 5 4 8 0 9 4 1\n",
            " 2 8 7 1 2 6 1 0 3 0 1 1 8 2 0 3 9 4 0 5 0 6 1 7 7 8 1 9 2 0 5 1 2 2 7 3 5\n",
            " 4 9 7 1 8 3 9 6 0 3 1 1 2 6 3 5 7 6 8 3 9 5 8 5 7 6 1 1 3 1 7 5 5 5 2 5 8\n",
            " 7 0 9 7 7 5 0 9 0 0 8 9 2 4 8 1 6 1 6 5 1 8 3 4 0 5 5 8 3 6 2 3 9 2 1 1 5\n",
            " 2 1 3 2 8 7 3 7 2 4 6 9 7 2 4 2 8 1 1 3 8 4 0 6 5 9 3 0 9 2 4 7 1 2 9 4 2\n",
            " 6 1 8 9 0 6 6 7 9 9 8 0 1 4 4 6 7 1 5 7 0 3 5 8 4 7 1 2 5 9 5 6 7 5 9 8 8\n",
            " 3 6 9 7 0 7 5 7 1 1 0 7 9 2 3 7 3 2 4 1 6 2 7 5 5 7 4 0 2 6 3 6 4 0 4 2 6\n",
            " 0 0 0 0 3 1 6 2 2 3 1 4 1 5 4 6 4 7 2 8 7 9 2 0 5 1 4 2 8 3 2 4 1 5 4 6 0\n",
            " 7 9 8 4 9 8 0 1 1 0 2 2 3 2 4 4 5 8 6 5 7 7 8 8 9 7 4 7 3 2 0 8 6 8 6 1 6\n",
            " 8 9 4 0 9 0 4 1 5 4 7 5 3 7 4 9 8 5 8 6 3 8 6 9 9 1 8 3 5 8 6 5 9 7 2 5 0\n",
            " 8 5 1 1 0 9 1 8 6 7 0 9 3 0 8 8 9 6 7 8 4 7 5 9 2 6 7 4 5 9 2 3 1 6 3 9 2\n",
            " 2 5 6 8 0 7 7 1 9 8 7 0 9 9 4 6 2 8 5 1 4 1 5 5 1 7 3 6 4 3 2 5 6 4 4 0 4\n",
            " 4 6 7 2 4 3 3 8 0 0 3 2 2 9 8 2 3 7 0 1 1 0 2 3 3 8 4 3 5 7 6 4 7 7 8 5 9\n",
            " 7 0 3 1 6 2 4 3 4 4 7 5]\n"
          ]
        }
      ],
      "source": [
        "#Converting the labels from strings to integers\n",
        "\n",
        "mnist_labels = np.array(mnist_data.target.values).astype(int)\n",
        "print(mnist_labels[:900])"
      ]
    },
    {
      "cell_type": "markdown",
      "metadata": {
        "id": "EJsbVpKuyMKq"
      },
      "source": [
        "Now, let's visualize the distribution of the classes to check if there is an imbalance in the data. "
      ]
    },
    {
      "cell_type": "code",
      "execution_count": 8,
      "metadata": {
        "colab": {
          "base_uri": "https://localhost:8080/",
          "height": 295
        },
        "id": "KsjG7pXE0FMt",
        "outputId": "308af4ed-5be8-4f76-89f0-acb5bef46962"
      },
      "outputs": [
        {
          "output_type": "display_data",
          "data": {
            "text/plain": [
              "<Figure size 432x288 with 1 Axes>"
            ],
            "image/png": "[encoded data removed]"
          },
          "metadata": {
            "needs_background": "light"
          }
        }
      ],
      "source": [
        "#Visualizing the distribution of the classes\n",
        "\n",
        "labels_names, labels_counts = np.unique(mnist_labels,  return_counts=True)\n",
        "plt.bar(labels_names, labels_counts, color ='maroon', tick_label=labels_names);\n",
        "plt.xlabel(\"Labels\");\n",
        "plt.ylabel(\"Labels Frequency\");\n",
        "plt.title(\"Labels Distribution\");"
      ]
    },
    {
      "cell_type": "markdown",
      "metadata": {
        "id": "nFhJGoHr42Dk"
      },
      "source": [
        "We can see that the data is balanced. So, we do not need to do any processing to deal with data imbalance. There are multiple other checks you can do on the data before starting in building your solution. For example, depending on the dataset type, you may need to check the following: statistics of numerical or categorical features, presence of missing values or outliers, and others depending on your dataset."
      ]
    },
    {
      "cell_type": "markdown",
      "metadata": {
        "id": "1A4cDLnl7kH5"
      },
      "source": [
        "# **Step 2: Building a Baseline Model**\n",
        "\n",
        "---\n",
        "\n",
        "The second step that can be done is building a baseline model for classifying the data using the raw data as is. This baseline model can give an indication of the baseline result that can be achieved with a basic model without any kind of preprocessing. \n",
        "\n",
        "So, in this step, we will use the raw data with a linear SVM classifier.\n",
        "\n",
        "The first question we need to answer is how we will represent the data. In our case, using the SVM classifier, we will represent the raw data using a separate feature for each pixel. This means that we will have 784 features for each image/sample. This was how the data was loaded originally. For the sake of simplicity and computational time, we will use only 10,000 samples out of the 70,000 samples. The 10,000 will be enough for exploring the whole pipeline. You can use a different number of samples by changing the variable '*samples_num*' below. "
      ]
    },
    {
      "cell_type": "code",
      "execution_count": 9,
      "metadata": {
        "colab": {
          "base_uri": "https://localhost:8080/"
        },
        "id": "NJSNugpPDRD9",
        "outputId": "2d6d90b3-0d10-4dd5-ce4f-184faa92ee0d"
      },
      "outputs": [
        {
          "output_type": "execute_result",
          "data": {
            "text/plain": [
              "((10000, 784), (10000,))"
            ]
          },
          "metadata": {},
          "execution_count": 9
        }
      ],
      "source": [
        "#Preparing the data to be used by the classifier\n",
        "\n",
        "samples_num = 10000\n",
        "\n",
        "mnist_data_classify = mnist_data_arr[:samples_num, :].copy()\n",
        "mnist_labels_classify = mnist_labels[:samples_num]\n",
        "mnist_data_classify.shape, mnist_labels_classify.shape"
      ]
    },
    {
      "cell_type": "markdown",
      "metadata": {
        "id": "wnkrJyROEJVW"
      },
      "source": [
        "The next question we need to answer is how we will split the data. We can split the data into training, validation, or testing sets. And in some cases, we can split it into training and testing sets. In complex problems and huge datasets, we should usually use a validation set. But for the simple case of our problem, we will split the data into only training and testing sets. \n",
        "\n",
        "There are multiple strategies for splitting the data that depend on the type of the data (such as balanced or imbalanced data). Examples of these strategies are random splitting, stratified splitting, and group splitting. Given that our data represents the normal case of a balanced dataset, we will go for the normal random splitting. You can also use K-Folds or Leave-One-Out cross-validation whenever needed for testing your model. "
      ]
    },
    {
      "cell_type": "code",
      "execution_count": 10,
      "metadata": {
        "colab": {
          "base_uri": "https://localhost:8080/"
        },
        "id": "bIohoCLuHuJ8",
        "outputId": "13bb0986-5fbd-40d0-a4bc-654f2e74e79b"
      },
      "outputs": [
        {
          "output_type": "execute_result",
          "data": {
            "text/plain": [
              "((7500, 784), (2500, 784))"
            ]
          },
          "metadata": {},
          "execution_count": 10
        }
      ],
      "source": [
        "#Splitting the data using random splitting\n",
        "\n",
        "from sklearn.model_selection import train_test_split\n",
        "\n",
        "Xtrain, Xtest, ytrain, ytest = train_test_split(mnist_data_classify, mnist_labels_classify, random_state=42)\n",
        "\n",
        "Xtrain.shape, Xtest.shape"
      ]
    },
    {
      "cell_type": "markdown",
      "metadata": {
        "id": "KtOrqMwtIJsF"
      },
      "source": [
        "We can see from the output above that the '*train_test_split*' function divided the data into 75% training and 25% testing which are the function's default values. You can change this, if needed, based on your problem and objectives.\n",
        "\n",
        "Now, we will build the classification pipeline. We will build the linear SVM model, fed the training data into the model, predict the labels of the testing data, and check the testing accuracy. "
      ]
    },
    {
      "cell_type": "code",
      "execution_count": 11,
      "metadata": {
        "colab": {
          "base_uri": "https://localhost:8080/"
        },
        "id": "wn_tzMI7Iquc",
        "outputId": "33a6718f-b5c8-4419-986a-57a3442cfe3f"
      },
      "outputs": [
        {
          "output_type": "stream",
          "name": "stdout",
          "text": [
            "0.9208\n"
          ]
        }
      ],
      "source": [
        "#Building and testing a linear SVM classification model\n",
        "\n",
        "from sklearn.svm import SVC\n",
        "from sklearn.metrics import accuracy_score\n",
        "\n",
        "model = SVC(kernel='linear') #Building the model\n",
        "model.fit(Xtrain, ytrain) #Fitting the model with training data\n",
        "yfit = model.predict(Xtest) #Predicting the testing data labels \n",
        "print(accuracy_score(ytest, yfit)) #Printing the classification accuracy achieved by the model on the testing data"
      ]
    },
    {
      "cell_type": "markdown",
      "metadata": {
        "id": "psthkO4QNBbU"
      },
      "source": [
        "We are now done with our first trial of the classification model. We can see that we achieved an accuracy of 0.92 by using the raw data and a linear SVM classifier. This is a good accuracy given the simplicity of the data. On more complex datasets, the raw data and a classical model may not generate such a good result. But for our data, this is good for now. \n",
        "\n",
        "Now, we can display the confusion matrix to better understand the performance of our model. "
      ]
    },
    {
      "cell_type": "code",
      "execution_count": 12,
      "metadata": {
        "colab": {
          "base_uri": "https://localhost:8080/",
          "height": 301
        },
        "id": "HqJj9DThknms",
        "outputId": "784926f0-b4f8-4d7c-ceb3-fa8465bdb832"
      },
      "outputs": [
        {
          "output_type": "display_data",
          "data": {
            "text/plain": [
              "<Figure size 432x288 with 2 Axes>"
            ],
            "image/png": "[encoded data removed]"
          },
          "metadata": {}
        }
      ],
      "source": [
        "#Displaying the confusion matrix between the classes\n",
        "\n",
        "from sklearn.metrics import confusion_matrix\n",
        "import seaborn as sns; sns.set() #Use seaborn plotting defaults\n",
        "\n",
        "conf_mat = confusion_matrix(ytest, yfit)\n",
        "sns.heatmap(conf_mat.T, square=True, annot=True, fmt='d', cbar=True)\n",
        "plt.title('Confusion Matrix');\n",
        "plt.xlabel('True Label');\n",
        "plt.ylabel('Predicted Label');"
      ]
    },
    {
      "cell_type": "markdown",
      "metadata": {
        "id": "walF4szCls9d"
      },
      "source": [
        "From the confusion matrix above, we can notice two things. First, the classification accuracy is good across all the labels. Second, we can better understand the misclassifications done by the model. We can notice the following:\n",
        "\n",
        "*   The digits 3, 4, 5, 8, and 9 have relatively more misclassifications than the other digits. The digit 0 has the least number of misclassifications.\n",
        "*   The misclassifications of digit 3 are mostly because they are wrongly predicted as letter 5. The same with digits 4 and 9, 5 and 3, 8 and 3, 9 and 4, and 9 and 7. This makes sense due to the possible similarity that could happen between these pairs of digits. \n",
        "\n",
        "This shows that the confusion matrix can help us in spotting the points of failure of our model which would help us in improving our model. You can further check the misclassified samples and display their images to further understand the occurrence of these misclassifications. \n",
        "\n",
        "Now, after finishing our baseline model and having an idea about its performance, we can try to improve this model either by data preprocessing or feature engineering. \n",
        "\n",
        "Let's start with the data preprocessing!\n",
        "\n"
      ]
    },
    {
      "cell_type": "markdown",
      "metadata": {
        "id": "CODkzUnzolUa"
      },
      "source": [
        "# **Step 3: Data Preprocessing for Accuracy Improvement**\n",
        "\n",
        "---\n",
        "\n",
        "\n",
        "\n",
        "Data preprocessing usually helps in improving the accuracy of our model, especially with complex datasets. Data preprocessing includes normalizing/standardizing/scaling of numerical features, imputing missing values, encoding of categorical features into numerical values, and others. The choice of suitable preprocessing methods depends on the dataset type and the objective to be achieved in your problem. \n",
        "\n",
        "So, what are the preprocessing methods we can apply to our dataset? These are some preprocessing methods that we may try:\n",
        "\n",
        "1. Binarizing the images to have only values 0 (black) or 1 (white) with no shades of gray. \n",
        "2. Resizing the images. \n",
        "3. Scaling the images to have values from 0 to 1 instead of 0 to 255. \n",
        "4. Applying an edge detection algorithm to the images and using the images after the edge detection.\n",
        "\n",
        "These are some ideas that we may check their effect on the classification accuracy. There is one more idea we can try, but we will discuss this later in the notebook. And you can definitely find and test more!\n",
        "\n",
        "So, let's first check the effect of binarizing the images!\n",
        "\n",
        "\n",
        "\n",
        "\n",
        "\n",
        "\n"
      ]
    },
    {
      "cell_type": "code",
      "execution_count": 13,
      "metadata": {
        "colab": {
          "base_uri": "https://localhost:8080/",
          "height": 470
        },
        "id": "9w6KYxs8uW9c",
        "outputId": "15ba9163-e2a3-4951-fa79-a5e6f4a58989"
      },
      "outputs": [
        {
          "output_type": "display_data",
          "data": {
            "text/plain": [
              "<Figure size 864x576 with 15 Axes>"
            ],
            "image/png": "[encoded data removed]"
          },
          "metadata": {}
        }
      ],
      "source": [
        "#Preparing and displaying the binarized data to be used by the classifier\n",
        "\n",
        "mnist_data_classify_binary = mnist_data_classify.copy()\n",
        "mnist_data_classify_binary[mnist_data_classify_binary > 0] = 1\n",
        "\n",
        "mnist_images_binary = np.reshape(mnist_data_classify_binary, (samples_num, 28, 28))\n",
        "\n",
        "fig, ax = plt.subplots(3, 5, figsize=(12, 8))\n",
        "for i, axi in enumerate(ax.flat):\n",
        "    axi.imshow(mnist_images_binary[i], cmap='gray')\n",
        "    axi.set(xticks=[], yticks=[],xlabel=mnist_data.target.values[i])"
      ]
    },
    {
      "cell_type": "markdown",
      "metadata": {
        "id": "WxSQH3YJvYiU"
      },
      "source": [
        "The above images show the binarized versions of the MNIST images. Let's display the numerical values representing these images to make sure they are zeros and ones.  "
      ]
    },
    {
      "cell_type": "code",
      "execution_count": 14,
      "metadata": {
        "colab": {
          "base_uri": "https://localhost:8080/"
        },
        "id": "HDw9zkfkvmBe",
        "outputId": "752af0e2-51ff-4764-f650-7e1095606446"
      },
      "outputs": [
        {
          "output_type": "stream",
          "name": "stdout",
          "text": [
            "[[0. 0. 0. 0. 0. 0. 0. 0. 0. 0. 0. 0. 0. 0. 0. 0. 0. 0. 0. 0. 0. 0. 0. 0.\n",
            "  0. 0. 0. 0.]\n",
            " [0. 0. 0. 0. 0. 0. 0. 0. 0. 0. 0. 0. 0. 0. 0. 0. 0. 0. 0. 0. 0. 0. 0. 0.\n",
            "  0. 0. 0. 0.]\n",
            " [0. 0. 0. 0. 0. 0. 0. 0. 0. 0. 0. 0. 0. 0. 0. 0. 0. 0. 0. 0. 0. 0. 0. 0.\n",
            "  0. 0. 0. 0.]\n",
            " [0. 0. 0. 0. 0. 0. 0. 0. 0. 0. 0. 0. 0. 0. 0. 0. 0. 0. 0. 0. 0. 0. 0. 0.\n",
            "  0. 0. 0. 0.]\n",
            " [0. 0. 0. 0. 0. 0. 0. 0. 0. 0. 0. 0. 0. 0. 0. 0. 0. 0. 0. 0. 0. 0. 0. 0.\n",
            "  0. 0. 0. 0.]\n",
            " [0. 0. 0. 0. 0. 0. 0. 0. 0. 0. 0. 0. 1. 1. 1. 1. 1. 1. 1. 1. 1. 1. 1. 1.\n",
            "  0. 0. 0. 0.]\n",
            " [0. 0. 0. 0. 0. 0. 0. 0. 1. 1. 1. 1. 1. 1. 1. 1. 1. 1. 1. 1. 1. 1. 1. 1.\n",
            "  0. 0. 0. 0.]\n",
            " [0. 0. 0. 0. 0. 0. 0. 1. 1. 1. 1. 1. 1. 1. 1. 1. 1. 1. 1. 1. 1. 1. 1. 0.\n",
            "  0. 0. 0. 0.]\n",
            " [0. 0. 0. 0. 0. 0. 0. 1. 1. 1. 1. 1. 1. 1. 1. 1. 1. 1. 0. 0. 0. 0. 0. 0.\n",
            "  0. 0. 0. 0.]\n",
            " [0. 0. 0. 0. 0. 0. 0. 0. 1. 1. 1. 1. 1. 1. 1. 0. 1. 1. 0. 0. 0. 0. 0. 0.\n",
            "  0. 0. 0. 0.]\n",
            " [0. 0. 0. 0. 0. 0. 0. 0. 0. 1. 1. 1. 1. 1. 0. 0. 0. 0. 0. 0. 0. 0. 0. 0.\n",
            "  0. 0. 0. 0.]\n",
            " [0. 0. 0. 0. 0. 0. 0. 0. 0. 0. 0. 1. 1. 1. 1. 0. 0. 0. 0. 0. 0. 0. 0. 0.\n",
            "  0. 0. 0. 0.]\n",
            " [0. 0. 0. 0. 0. 0. 0. 0. 0. 0. 0. 1. 1. 1. 1. 0. 0. 0. 0. 0. 0. 0. 0. 0.\n",
            "  0. 0. 0. 0.]\n",
            " [0. 0. 0. 0. 0. 0. 0. 0. 0. 0. 0. 0. 1. 1. 1. 1. 1. 1. 0. 0. 0. 0. 0. 0.\n",
            "  0. 0. 0. 0.]\n",
            " [0. 0. 0. 0. 0. 0. 0. 0. 0. 0. 0. 0. 0. 1. 1. 1. 1. 1. 1. 0. 0. 0. 0. 0.\n",
            "  0. 0. 0. 0.]\n",
            " [0. 0. 0. 0. 0. 0. 0. 0. 0. 0. 0. 0. 0. 0. 1. 1. 1. 1. 1. 1. 0. 0. 0. 0.\n",
            "  0. 0. 0. 0.]\n",
            " [0. 0. 0. 0. 0. 0. 0. 0. 0. 0. 0. 0. 0. 0. 0. 1. 1. 1. 1. 1. 0. 0. 0. 0.\n",
            "  0. 0. 0. 0.]\n",
            " [0. 0. 0. 0. 0. 0. 0. 0. 0. 0. 0. 0. 0. 0. 0. 0. 0. 1. 1. 1. 1. 0. 0. 0.\n",
            "  0. 0. 0. 0.]\n",
            " [0. 0. 0. 0. 0. 0. 0. 0. 0. 0. 0. 0. 0. 0. 1. 1. 1. 1. 1. 1. 1. 0. 0. 0.\n",
            "  0. 0. 0. 0.]\n",
            " [0. 0. 0. 0. 0. 0. 0. 0. 0. 0. 0. 0. 1. 1. 1. 1. 1. 1. 1. 1. 0. 0. 0. 0.\n",
            "  0. 0. 0. 0.]\n",
            " [0. 0. 0. 0. 0. 0. 0. 0. 0. 0. 1. 1. 1. 1. 1. 1. 1. 1. 1. 0. 0. 0. 0. 0.\n",
            "  0. 0. 0. 0.]\n",
            " [0. 0. 0. 0. 0. 0. 0. 0. 1. 1. 1. 1. 1. 1. 1. 1. 1. 1. 0. 0. 0. 0. 0. 0.\n",
            "  0. 0. 0. 0.]\n",
            " [0. 0. 0. 0. 0. 0. 1. 1. 1. 1. 1. 1. 1. 1. 1. 1. 0. 0. 0. 0. 0. 0. 0. 0.\n",
            "  0. 0. 0. 0.]\n",
            " [0. 0. 0. 0. 1. 1. 1. 1. 1. 1. 1. 1. 1. 1. 0. 0. 0. 0. 0. 0. 0. 0. 0. 0.\n",
            "  0. 0. 0. 0.]\n",
            " [0. 0. 0. 0. 1. 1. 1. 1. 1. 1. 1. 1. 0. 0. 0. 0. 0. 0. 0. 0. 0. 0. 0. 0.\n",
            "  0. 0. 0. 0.]\n",
            " [0. 0. 0. 0. 0. 0. 0. 0. 0. 0. 0. 0. 0. 0. 0. 0. 0. 0. 0. 0. 0. 0. 0. 0.\n",
            "  0. 0. 0. 0.]\n",
            " [0. 0. 0. 0. 0. 0. 0. 0. 0. 0. 0. 0. 0. 0. 0. 0. 0. 0. 0. 0. 0. 0. 0. 0.\n",
            "  0. 0. 0. 0.]\n",
            " [0. 0. 0. 0. 0. 0. 0. 0. 0. 0. 0. 0. 0. 0. 0. 0. 0. 0. 0. 0. 0. 0. 0. 0.\n",
            "  0. 0. 0. 0.]]\n"
          ]
        }
      ],
      "source": [
        "#Displaying the numerical values of the binarized images\n",
        "\n",
        "print(mnist_images_binary[0])"
      ]
    },
    {
      "cell_type": "markdown",
      "metadata": {
        "id": "bVTJqKh1vy4x"
      },
      "source": [
        "We can see from the values displayed above that the images are represented in zeros and ones. Let's now test our linear SVM classifier on the binarized data."
      ]
    },
    {
      "cell_type": "code",
      "execution_count": 15,
      "metadata": {
        "colab": {
          "base_uri": "https://localhost:8080/"
        },
        "id": "nloaPB2EwEnA",
        "outputId": "39fd5ef0-ad3f-40d6-ed3f-e302ca19b3bf"
      },
      "outputs": [
        {
          "output_type": "stream",
          "name": "stdout",
          "text": [
            "0.9084\n"
          ]
        }
      ],
      "source": [
        "#Testing a linear SVM classification model on the binarized version of the data\n",
        "\n",
        "Xtrain, Xtest, ytrain, ytest = train_test_split(mnist_data_classify_binary, mnist_labels_classify, random_state=42) #Splitting the data\n",
        "model = SVC(kernel='linear') #Building the model\n",
        "model.fit(Xtrain, ytrain) #Fitting the model with training data\n",
        "yfit = model.predict(Xtest) #Predicting the testing data labels \n",
        "print(accuracy_score(ytest, yfit)) #Printing the classification accuracy achieved by the model on the testing data"
      ]
    },
    {
      "cell_type": "markdown",
      "metadata": {
        "id": "7Sa6sA6fwbRH"
      },
      "source": [
        "We can see from the accuracy achieved above that binarizing the images did not improve the accuracy of our model, but the accuracy decreased slightly from 0.92 to 0.91. So, this result means that this preprocessing step may not be important in our problem.  \n",
        "\n",
        "Let's now try another preprocessing step which is resizing our original images. We can try to decrease or increase the size of the images and see the resizing effect on the accuracy. For the purpose of this notebook, we will test decreasing the size of the images from 28 by 28 to 20 by 20. You can test different values if needed by changing the resize variable '*new_size*' in the code below. "
      ]
    },
    {
      "cell_type": "code",
      "execution_count": 16,
      "metadata": {
        "colab": {
          "base_uri": "https://localhost:8080/",
          "height": 470
        },
        "id": "gV0XUTi3xopD",
        "outputId": "a507d5fc-6a59-4f8e-e8d6-c56fc5cf072c"
      },
      "outputs": [
        {
          "output_type": "display_data",
          "data": {
            "text/plain": [
              "<Figure size 864x576 with 15 Axes>"
            ],
            "image/png": "[encoded data removed]"
          },
          "metadata": {}
        }
      ],
      "source": [
        "#Preparing and displaying the resized data to be used by the classifier\n",
        "\n",
        "from skimage.transform import resize\n",
        "\n",
        "new_size = 20\n",
        "\n",
        "mnist_images_classify = np.reshape(mnist_data_classify, (samples_num, 28, 28))\n",
        "mnist_images_resize = np.zeros((samples_num, new_size, new_size))\n",
        "for i in range(samples_num):\n",
        "  mnist_images_resize[i, :, :] = resize(mnist_images_classify[i, :, :], (new_size, new_size), preserve_range=True)\n",
        "\n",
        "fig, ax = plt.subplots(3, 5, figsize=(12, 8))\n",
        "for i, axi in enumerate(ax.flat):\n",
        "    axi.imshow(mnist_images_resize[i], cmap='gray')\n",
        "    axi.set(xticks=[], yticks=[],xlabel=mnist_data.target.values[i])"
      ]
    },
    {
      "cell_type": "markdown",
      "metadata": {
        "id": "In4lPwyPzy0E"
      },
      "source": [
        "Let's now test our linear SVM classifier on the resized data.\n",
        "\n"
      ]
    },
    {
      "cell_type": "code",
      "execution_count": 17,
      "metadata": {
        "colab": {
          "base_uri": "https://localhost:8080/"
        },
        "id": "tDLY7HPhzD_B",
        "outputId": "550bbe5f-64b4-48bf-9676-91b2b87b0b1e"
      },
      "outputs": [
        {
          "output_type": "stream",
          "name": "stdout",
          "text": [
            "0.9132\n"
          ]
        }
      ],
      "source": [
        "#Testing a linear SVM classification model on the resized version of the data\n",
        "\n",
        "mnist_data_classify_resize = np.reshape(mnist_images_resize, (samples_num, new_size*new_size))\n",
        "Xtrain, Xtest, ytrain, ytest = train_test_split(mnist_data_classify_resize, mnist_labels_classify, random_state=42) #Splitting the data\n",
        "model = SVC(kernel='linear') #Building the model\n",
        "model.fit(Xtrain, ytrain) #Fitting the model with training data\n",
        "yfit = model.predict(Xtest) #Predicting the testing data labels \n",
        "print(accuracy_score(ytest, yfit)) #Printing the classification accuracy achieved by the model on the testing data"
      ]
    },
    {
      "cell_type": "markdown",
      "metadata": {
        "id": "ty-H2Wp12AJT"
      },
      "source": [
        "We can see from the accuracy achieved above that resizing the images did not improve the accuracy of our model, but the accuracy decreased slightly from 0.9208 to 0.9132. So, this result means that this preprocessing step may not be important in our problem.   \n",
        "\n",
        "Let's now try rescaling our images from 0 to 1 and see the rescaling effect on the accuracy. There are different ways of normalization and standardization. In our test below, we will use the MinMaxScaler. You can also try other different methods. You can check the different methods here: https://scikit-learn.org/stable/modules/classes.html#module-sklearn.preprocessing. "
      ]
    },
    {
      "cell_type": "code",
      "execution_count": 18,
      "metadata": {
        "colab": {
          "base_uri": "https://localhost:8080/",
          "height": 470
        },
        "id": "TzZG4ddL26yF",
        "outputId": "722d45c6-7e34-4d55-edd2-aa0d5cc4dda6"
      },
      "outputs": [
        {
          "output_type": "display_data",
          "data": {
            "text/plain": [
              "<Figure size 864x576 with 15 Axes>"
            ],
            "image/png": "[encoded data removed]"
          },
          "metadata": {}
        }
      ],
      "source": [
        "#Preparing and displaying the rescaled data to be used by the classifier\n",
        "\n",
        "from sklearn.preprocessing import MinMaxScaler\n",
        "\n",
        "scaler = MinMaxScaler()\n",
        "mnist_data_classify_rescale = mnist_data_classify.copy()\n",
        "mnist_data_classify_rescale = scaler.fit_transform(mnist_data_classify_rescale)\n",
        "#You can also implement the rescaling manually using this line of code: mnist_data_classify_rescale = mnist_data_classify/255\n",
        "mnist_images_rescale = np.reshape(mnist_data_classify_rescale, (samples_num, 28, 28))\n",
        "\n",
        "fig, ax = plt.subplots(3, 5, figsize=(12, 8))\n",
        "for i, axi in enumerate(ax.flat):\n",
        "    axi.imshow(mnist_images_rescale[i], cmap='gray')\n",
        "    axi.set(xticks=[], yticks=[],xlabel=mnist_data.target.values[i])"
      ]
    },
    {
      "cell_type": "markdown",
      "metadata": {
        "id": "gL0m5F_J-iN1"
      },
      "source": [
        "As we can see from the images above, the images look the same as the original ones. The only difference is the scale of the values which is now from 0 to 1 instead of 0 to 255. For some algorithms (such as neural networks), this rescaling is important and affects the model's accuracy. Let's display below the values after rescaling."
      ]
    },
    {
      "cell_type": "code",
      "execution_count": 19,
      "metadata": {
        "colab": {
          "base_uri": "https://localhost:8080/"
        },
        "id": "o-iB30AH8SY6",
        "outputId": "b4270e2e-7a2f-4625-8d1b-3a3270983747"
      },
      "outputs": [
        {
          "output_type": "stream",
          "name": "stdout",
          "text": [
            "[[0.         0.         0.         0.         0.         0.\n",
            "  0.         0.         0.         0.         0.         0.\n",
            "  0.         0.         0.         0.         0.         0.\n",
            "  0.         0.         0.         0.         0.         0.\n",
            "  0.         0.         0.         0.        ]\n",
            " [0.         0.         0.         0.         0.         0.\n",
            "  0.         0.         0.         0.         0.         0.\n",
            "  0.         0.         0.         0.         0.         0.\n",
            "  0.         0.         0.         0.         0.         0.\n",
            "  0.         0.         0.         0.        ]\n",
            " [0.         0.         0.         0.         0.         0.\n",
            "  0.         0.         0.         0.         0.         0.\n",
            "  0.         0.         0.         0.         0.         0.\n",
            "  0.         0.         0.         0.         0.         0.\n",
            "  0.         0.         0.         0.        ]\n",
            " [0.         0.         0.         0.         0.         0.\n",
            "  0.         0.         0.         0.         0.         0.\n",
            "  0.         0.         0.         0.         0.         0.\n",
            "  0.         0.         0.         0.         0.         0.\n",
            "  0.         0.         0.         0.        ]\n",
            " [0.         0.         0.         0.         0.         0.\n",
            "  0.         0.         0.         0.         0.         0.\n",
            "  0.         0.         0.         0.         0.         0.\n",
            "  0.         0.         0.         0.         0.         0.\n",
            "  0.         0.         0.         0.        ]\n",
            " [0.         0.         0.         0.         0.         0.\n",
            "  0.         0.         0.         0.         0.         0.\n",
            "  0.01176471 0.07058824 0.07058824 0.07058824 0.49411765 0.53333333\n",
            "  0.68627451 0.10196078 0.65098039 1.         0.96862745 0.49803922\n",
            "  0.         0.         0.         0.        ]\n",
            " [0.         0.         0.         0.         0.         0.\n",
            "  0.         0.         0.11764706 0.14117647 0.36862745 0.60392157\n",
            "  0.66666667 0.99215686 0.99215686 0.99215686 0.99215686 0.99215686\n",
            "  0.88235294 0.6745098  0.99215686 0.94901961 0.76470588 0.25098039\n",
            "  0.         0.         0.         0.        ]\n",
            " [0.         0.         0.         0.         0.         0.\n",
            "  0.         0.19215686 0.93333333 0.99215686 0.99215686 0.99215686\n",
            "  0.99215686 0.99215686 0.99215686 0.99215686 0.99215686 0.98431373\n",
            "  0.36470588 0.32156863 0.32156863 0.21960784 0.15294118 0.\n",
            "  0.         0.         0.         0.        ]\n",
            " [0.         0.         0.         0.         0.         0.\n",
            "  0.         0.07058824 0.85882353 0.99215686 0.99215686 0.99215686\n",
            "  0.99215686 0.99215686 0.77647059 0.71372549 0.96862745 0.94509804\n",
            "  0.         0.         0.         0.         0.         0.\n",
            "  0.         0.         0.         0.        ]\n",
            " [0.         0.         0.         0.         0.         0.\n",
            "  0.         0.         0.31372549 0.61176471 0.41960784 0.99215686\n",
            "  0.99215686 0.80392157 0.04313725 0.         0.16862745 0.60392157\n",
            "  0.         0.         0.         0.         0.         0.\n",
            "  0.         0.         0.         0.        ]\n",
            " [0.         0.         0.         0.         0.         0.\n",
            "  0.         0.         0.         0.05490196 0.00392157 0.60392157\n",
            "  0.99215686 0.35294118 0.         0.         0.         0.\n",
            "  0.         0.         0.         0.         0.         0.\n",
            "  0.         0.         0.         0.        ]\n",
            " [0.         0.         0.         0.         0.         0.\n",
            "  0.         0.         0.         0.         0.         0.54509804\n",
            "  0.99215686 0.74509804 0.00784314 0.         0.         0.\n",
            "  0.         0.         0.         0.         0.         0.\n",
            "  0.         0.         0.         0.        ]\n",
            " [0.         0.         0.         0.         0.         0.\n",
            "  0.         0.         0.         0.         0.         0.04313725\n",
            "  0.74509804 0.99215686 0.2745098  0.         0.         0.\n",
            "  0.         0.         0.         0.         0.         0.\n",
            "  0.         0.         0.         0.        ]\n",
            " [0.         0.         0.         0.         0.         0.\n",
            "  0.         0.         0.         0.         0.         0.\n",
            "  0.1372549  0.94509804 0.88235294 0.62745098 0.42352941 0.00392157\n",
            "  0.         0.         0.         0.         0.         0.\n",
            "  0.         0.         0.         0.        ]\n",
            " [0.         0.         0.         0.         0.         0.\n",
            "  0.         0.         0.         0.         0.         0.\n",
            "  0.         0.31764706 0.94117647 0.99215686 0.99215686 0.46666667\n",
            "  0.09803922 0.         0.         0.         0.         0.\n",
            "  0.         0.         0.         0.        ]\n",
            " [0.         0.         0.         0.         0.         0.\n",
            "  0.         0.         0.         0.         0.         0.\n",
            "  0.         0.         0.17647059 0.72941176 0.99215686 0.99215686\n",
            "  0.58823529 0.10588235 0.         0.         0.         0.\n",
            "  0.         0.         0.         0.        ]\n",
            " [0.         0.         0.         0.         0.         0.\n",
            "  0.         0.         0.         0.         0.         0.\n",
            "  0.         0.         0.         0.0627451  0.36470588 0.98823529\n",
            "  0.99215686 0.73333333 0.         0.         0.         0.\n",
            "  0.         0.         0.         0.        ]\n",
            " [0.         0.         0.         0.         0.         0.\n",
            "  0.         0.         0.         0.         0.         0.\n",
            "  0.         0.         0.         0.         0.         0.97647059\n",
            "  0.99215686 0.97647059 0.25098039 0.         0.         0.\n",
            "  0.         0.         0.         0.        ]\n",
            " [0.         0.         0.         0.         0.         0.\n",
            "  0.         0.         0.         0.         0.         0.\n",
            "  0.         0.         0.18039216 0.50980392 0.71764706 0.99215686\n",
            "  0.99215686 0.81176471 0.00784314 0.         0.         0.\n",
            "  0.         0.         0.         0.        ]\n",
            " [0.         0.         0.         0.         0.         0.\n",
            "  0.         0.         0.         0.         0.         0.\n",
            "  0.15294118 0.58039216 0.89803922 0.99215686 0.99215686 0.99215686\n",
            "  0.98039216 0.71372549 0.         0.         0.         0.\n",
            "  0.         0.         0.         0.        ]\n",
            " [0.         0.         0.         0.         0.         0.\n",
            "  0.         0.         0.         0.         0.09411765 0.44705882\n",
            "  0.86666667 0.99215686 0.99215686 0.99215686 0.99215686 0.78823529\n",
            "  0.30588235 0.         0.         0.         0.         0.\n",
            "  0.         0.         0.         0.        ]\n",
            " [0.         0.         0.         0.         0.         0.\n",
            "  0.         0.         0.09019608 0.25882353 0.83529412 0.99215686\n",
            "  0.99215686 0.99215686 0.99215686 0.77647059 0.31764706 0.00784314\n",
            "  0.         0.         0.         0.         0.         0.\n",
            "  0.         0.         0.         0.        ]\n",
            " [0.         0.         0.         0.         0.         0.\n",
            "  0.07058824 0.67058824 0.85882353 0.99215686 0.99215686 0.99215686\n",
            "  0.99215686 0.76470588 0.31372549 0.03529412 0.         0.\n",
            "  0.         0.         0.         0.         0.         0.\n",
            "  0.         0.         0.         0.        ]\n",
            " [0.         0.         0.         0.         0.21568627 0.6745098\n",
            "  0.88627451 0.99215686 0.99215686 0.99215686 0.99215686 0.95686275\n",
            "  0.52156863 0.04313725 0.         0.         0.         0.\n",
            "  0.         0.         0.         0.         0.         0.\n",
            "  0.         0.         0.         0.        ]\n",
            " [0.         0.         0.         0.         0.53333333 0.99215686\n",
            "  0.99215686 0.99215686 0.83137255 0.52941176 0.51764706 0.0627451\n",
            "  0.         0.         0.         0.         0.         0.\n",
            "  0.         0.         0.         0.         0.         0.\n",
            "  0.         0.         0.         0.        ]\n",
            " [0.         0.         0.         0.         0.         0.\n",
            "  0.         0.         0.         0.         0.         0.\n",
            "  0.         0.         0.         0.         0.         0.\n",
            "  0.         0.         0.         0.         0.         0.\n",
            "  0.         0.         0.         0.        ]\n",
            " [0.         0.         0.         0.         0.         0.\n",
            "  0.         0.         0.         0.         0.         0.\n",
            "  0.         0.         0.         0.         0.         0.\n",
            "  0.         0.         0.         0.         0.         0.\n",
            "  0.         0.         0.         0.        ]\n",
            " [0.         0.         0.         0.         0.         0.\n",
            "  0.         0.         0.         0.         0.         0.\n",
            "  0.         0.         0.         0.         0.         0.\n",
            "  0.         0.         0.         0.         0.         0.\n",
            "  0.         0.         0.         0.        ]]\n"
          ]
        }
      ],
      "source": [
        "#Displaying the numerical values of the rescaled images\n",
        "\n",
        "print(mnist_images_rescale[0])"
      ]
    },
    {
      "cell_type": "markdown",
      "metadata": {
        "id": "Gg9bEHmj_G7Z"
      },
      "source": [
        "We can see from the values displayed above that the images are represented in the range from zero to one. Let's now test our linear SVM classifier on the rescaled data."
      ]
    },
    {
      "cell_type": "code",
      "execution_count": 20,
      "metadata": {
        "colab": {
          "base_uri": "https://localhost:8080/"
        },
        "id": "CLlN0_EP_QW8",
        "outputId": "949a83ee-dc3e-4b88-ad8c-58d492851224"
      },
      "outputs": [
        {
          "output_type": "stream",
          "name": "stdout",
          "text": [
            "0.9248\n"
          ]
        }
      ],
      "source": [
        "#Testing a linear SVM classification model on the rescaled version of the data\n",
        "\n",
        "Xtrain, Xtest, ytrain, ytest = train_test_split(mnist_data_classify_rescale, mnist_labels_classify, random_state=42) #Splitting the data\n",
        "model = SVC(kernel='linear') #Building the model\n",
        "model.fit(Xtrain, ytrain) #Fitting the model with training data\n",
        "yfit = model.predict(Xtest) #Predicting the testing data labels \n",
        "print(accuracy_score(ytest, yfit)) #Printing the classification accuracy achieved by the model on the testing data"
      ]
    },
    {
      "cell_type": "markdown",
      "metadata": {
        "id": "SZfCorwA_lQ4"
      },
      "source": [
        "We can see from the accuracy achieved above that rescaling the images have a slight improvement effect on the accuracy of our model. The accuracy increased from 0.9208 to 0.9248. So, this result means that this preprocessing step can be helpful if used in our problem. \n",
        "\n",
        "Let's now try applying edge detection to our images and check its effect on the accuracy. There are a lot of edge detection algorithms that can be used (such as Canny, Sobel, HOG, and others). We will test the Canny edge detector. You can also test other edge detectors. You can find multiple algorithms on this link: https://scikit-image.org/docs/stable/api/skimage.feature.html"
      ]
    },
    {
      "cell_type": "code",
      "execution_count": 21,
      "metadata": {
        "colab": {
          "base_uri": "https://localhost:8080/",
          "height": 470
        },
        "id": "5nbV_2M6BAeA",
        "outputId": "da165146-68bb-48b2-e5a7-68d7c1352cfa"
      },
      "outputs": [
        {
          "output_type": "display_data",
          "data": {
            "text/plain": [
              "<Figure size 864x576 with 15 Axes>"
            ],
            "image/png": "[encoded data removed]"
          },
          "metadata": {}
        }
      ],
      "source": [
        "#Preparing and displaying the data after applying Canny edge detector to the images\n",
        "\n",
        "from skimage.feature import canny\n",
        "\n",
        "mnist_images_classify = np.reshape(mnist_data_classify, (samples_num, 28, 28))\n",
        "mnist_images_edge = np.zeros((samples_num, 28, 28))\n",
        "\n",
        "for i in range(samples_num):\n",
        "  mnist_images_edge[i, :, :] = canny(mnist_images_classify[i, :, :])\n",
        "\n",
        "fig, ax = plt.subplots(3, 5, figsize=(12, 8))\n",
        "for i, axi in enumerate(ax.flat):\n",
        "    axi.imshow(mnist_images_edge[i], cmap='gray')\n",
        "    axi.set(xticks=[], yticks=[],xlabel=mnist_data.target.values[i])"
      ]
    },
    {
      "cell_type": "markdown",
      "metadata": {
        "id": "fYbCaKd0CACy"
      },
      "source": [
        "We can see from the displayed images above the transformation of the images after edge detection. Let's now test our linear SVM classifier on the data after edge detection."
      ]
    },
    {
      "cell_type": "code",
      "execution_count": 22,
      "metadata": {
        "colab": {
          "base_uri": "https://localhost:8080/"
        },
        "id": "LBx6zk-0COxl",
        "outputId": "60698021-a30b-400e-deab-426976223317"
      },
      "outputs": [
        {
          "output_type": "stream",
          "name": "stdout",
          "text": [
            "0.8516\n"
          ]
        }
      ],
      "source": [
        "#Testing a linear SVM classification model on the data after applying Canny edge detection\n",
        "\n",
        "mnist_data_classify_edge = np.reshape(mnist_images_edge, (samples_num, 28*28))\n",
        "Xtrain, Xtest, ytrain, ytest = train_test_split(mnist_data_classify_edge, mnist_labels_classify, random_state=42) #Splitting the data\n",
        "model = SVC(kernel='linear') #Building the model\n",
        "model.fit(Xtrain, ytrain) #Fitting the model with training data\n",
        "yfit = model.predict(Xtest) #Predicting the testing data labels \n",
        "print(accuracy_score(ytest, yfit)) #Printing the classification accuracy achieved by the model on the testing data"
      ]
    },
    {
      "cell_type": "markdown",
      "metadata": {
        "id": "NFkOVYzVDC0Z"
      },
      "source": [
        "We can see from the accuracy achieved above that applying Canny edge detection to the images did not improve the accuracy of our model, but the accuracy decreased significantly from 0.92 to 0.85. This means that the edge detection seems to remove important information from the images that are important to the classifier. So, this result means that this preprocessing step is better not be used in our problem.\n",
        "\n",
        "Now, we have tried 4 different preprocessing methods. One of them (rescaling) improved slightly the model accuracy, but the other three decreased the accuracy. Is it possible to find another preprocessing method that can have a significant effect on the results? Is there a preprocessing method that could be more suitable for our data than the above methods we have tried? \n",
        "\n",
        "The answer is yes! We can think of a preprocessing method by looking at the images as we did in the *Data Exploration* step. If we looked again at the images, we can see that some digits in the images are skewed. This skewness in the images could be affecting the accuracy negatively. So, \"Deskewing\" the images could lead to an improvement in accuracy. \n",
        "\n",
        "You can find more on this link about \"Deskewing\" the MNIST data: https://fsix.github.io/mnist/Deskewing.html. As mentioned in the link: \"Deskewing is the process of straightening an image that has been scanned or written crookedly — that is an image that is slanting too far in one direction, or one that is misaligned\".\n",
        "\n",
        "So, let's try to preprocess our images by deskewing them!"
      ]
    },
    {
      "cell_type": "code",
      "execution_count": 23,
      "metadata": {
        "id": "lfmxStWsYzet"
      },
      "outputs": [],
      "source": [
        "#Define some functions to be used for the deskewing process\n",
        "#The functions below are copied from: https://fsix.github.io/mnist/Deskewing.html\n",
        "\n",
        "from scipy.ndimage import interpolation\n",
        "\n",
        "def moments(image):\n",
        "    c0,c1 = np.mgrid[:image.shape[0],:image.shape[1]] # A trick in numPy to create a mesh grid\n",
        "    totalImage = np.sum(image) #sum of pixels\n",
        "    m0 = np.sum(c0*image)/totalImage #mu_x\n",
        "    m1 = np.sum(c1*image)/totalImage #mu_y\n",
        "    m00 = np.sum((c0-m0)**2*image)/totalImage #var(x)\n",
        "    m11 = np.sum((c1-m1)**2*image)/totalImage #var(y)\n",
        "    m01 = np.sum((c0-m0)*(c1-m1)*image)/totalImage #covariance(x,y)\n",
        "    mu_vector = np.array([m0,m1]) # Notice that these are \\mu_x, \\mu_y respectively\n",
        "    covariance_matrix = np.array([[m00,m01],[m01,m11]]) # Do you see a similarity between the covariance matrix\n",
        "    return mu_vector, covariance_matrix\n",
        "\n",
        "def deskew(image):\n",
        "    c,v = moments(image)\n",
        "    alpha = v[0,1]/v[0,0]\n",
        "    affine = np.array([[1,0],[alpha,1]])\n",
        "    ocenter = np.array(image.shape)/2.0\n",
        "    offset = c-np.dot(affine,ocenter)\n",
        "    return interpolation.affine_transform(image,affine,offset=offset)"
      ]
    },
    {
      "cell_type": "code",
      "execution_count": 24,
      "metadata": {
        "colab": {
          "base_uri": "https://localhost:8080/",
          "height": 137
        },
        "id": "0rFqYtaCY_uh",
        "outputId": "de5d1e67-5780-49cb-f9e6-9124da21dabb"
      },
      "outputs": [
        {
          "output_type": "display_data",
          "data": {
            "text/plain": [
              "<Figure size 720x144 with 20 Axes>"
            ],
            "image/png": "[encoded data removed]"
          },
          "metadata": {}
        }
      ],
      "source": [
        "#Preparing and displaying the images before and after deskewing \n",
        "\n",
        "mnist_images_classify = np.reshape(mnist_data_classify, (samples_num, 28, 28))\n",
        "mnist_images_deskew = np.zeros((samples_num, 28, 28))\n",
        "\n",
        "for i in range(samples_num):\n",
        "  mnist_images_deskew[i, :, :] = deskew(mnist_images_classify[i, :, :])\n",
        "\n",
        "fig, ax = plt.subplots(2, 10, figsize=(10, 2))\n",
        "for i, axi in enumerate(ax.flat):\n",
        "  if i < 10:\n",
        "    axi.imshow(mnist_images[i], cmap='gray')\n",
        "  else:\n",
        "    axi.imshow(deskew(mnist_images[i-10]), cmap='gray')\n",
        "  axi.set(xticks=[], yticks=[])"
      ]
    },
    {
      "cell_type": "markdown",
      "metadata": {
        "id": "T2ag0iO3Ohrh"
      },
      "source": [
        "We can see from the displayed images above the transformation of the images after deskewing them. Let's now test our linear SVM classifier on the data after the deskewing step."
      ]
    },
    {
      "cell_type": "code",
      "execution_count": 25,
      "metadata": {
        "colab": {
          "base_uri": "https://localhost:8080/"
        },
        "id": "OhCa-y-EOuv1",
        "outputId": "afe67b64-7e2f-449d-b071-036a4d8ac478"
      },
      "outputs": [
        {
          "output_type": "stream",
          "name": "stdout",
          "text": [
            "0.9476\n"
          ]
        }
      ],
      "source": [
        "#Testing a linear SVM classification model on the data after deskewing the images\n",
        "\n",
        "mnist_data_classify_deskew = np.reshape(mnist_images_deskew, (samples_num, 28*28))\n",
        "Xtrain, Xtest, ytrain, ytest = train_test_split(mnist_data_classify_deskew, mnist_labels_classify, random_state=42) #Splitting the data\n",
        "model = SVC(kernel='linear') #Building the model\n",
        "model.fit(Xtrain, ytrain) #Fitting the model with training data\n",
        "yfit = model.predict(Xtest) #Predicting the testing data labels \n",
        "print(accuracy_score(ytest, yfit)) #Printing the classification accuracy achieved by the model on the testing data"
      ]
    },
    {
      "cell_type": "markdown",
      "metadata": {
        "id": "wOaaWzxZO9CL"
      },
      "source": [
        "So, now, we have a significant increase in the accuracy!! The accuracy increased from **0.92 to 0.95 (3% increase)**! This result means that this preprocessing is essential to be applied to our data and it is the most important one compared to all the other preprocessing steps! We can conclude that this preprocessing method is important because it is suitable for our data. This shows the importance of \"*Data Exploration*\" and choosing the preprocessing steps based on our understanding of the data we have in our problem.\n",
        "\n",
        "To further increase the model accuracy, we can apply multiple preprocessing steps together. You can try combining multiple preprocessing steps and see their effect on the accuracy. Please note that you can combine preprocessing methods even if one of them did not work when examined separately on the data; it may work or have a positive effect on the accuracy when combined with other methods.\n",
        "\n",
        "Now, after examining multiple preprocessing methods, we can examine feature engineering for increasing our accuracy. \n",
        "\n",
        "So, let's move to the *Feature Engineering* step!"
      ]
    },
    {
      "cell_type": "markdown",
      "metadata": {
        "id": "Z9jmrKAlQj7c"
      },
      "source": [
        "# **Step 4: Feature Engineering for Accuracy Improvement**\n",
        "\n",
        "---\n",
        "\n",
        "\n",
        "\n",
        "\"Much of the success of machine learning is actually success in engineering features that a learner can understand\". — Scott Locklin, in “Neglected machine learning ideas\".\n",
        "\n",
        "Feature Engineering is essential in machine learning. You can know more about Feature Engineering and its importance from this article: https://machinelearningmastery.com/discover-feature-engineering-how-to-engineer-features-and-how-to-get-good-at-it/ \n",
        "\n",
        "As mentioned in the article above, Feature Engineering can be defined as \"the process of transforming raw data into features that better represent the underlying problem to the predictive models, resulting in improved model accuracy on unseen data\".\n",
        "\n",
        "In this notebook, we will try two approaches of Feature Engineering to transform our raw data into other features that could better represent the problem. \n",
        "\n",
        "But before discussing our approaches, let's talk about the number of features used in our model. In all the models we have examined above, we have used 784 features. What if we need to decrease this number of features? Can we solve our problem with less number of features? \n",
        "\n",
        "First, let's try to use only 5 features out of the 784 features of the raw data and see the accuracy of our model."
      ]
    },
    {
      "cell_type": "code",
      "execution_count": 26,
      "metadata": {
        "colab": {
          "base_uri": "https://localhost:8080/"
        },
        "id": "njNKHU5QZj8_",
        "outputId": "4bbb5884-fd80-4202-8bff-3b683c02d09a"
      },
      "outputs": [
        {
          "output_type": "stream",
          "name": "stdout",
          "text": [
            "0.1124\n"
          ]
        }
      ],
      "source": [
        "#Testing a linear SVM classification model using only 5 features of the raw data\n",
        "\n",
        "Xtrain, Xtest, ytrain, ytest = train_test_split(mnist_data_classify[:, 390:395], mnist_labels_classify, random_state=42) #Splitting the data\n",
        "model = SVC(kernel='linear') #Building the model\n",
        "model.fit(Xtrain, ytrain) #Fitting the model with training data\n",
        "yfit = model.predict(Xtest) #Predicting the testing data labels \n",
        "print(accuracy_score(ytest, yfit)) #Printing the classification accuracy achieved by the model on the testing data"
      ]
    },
    {
      "cell_type": "markdown",
      "metadata": {
        "id": "DrbYExksehes"
      },
      "source": [
        "We can see the significant drop in the accuracy above from 0.92 to 0.11 because of the decrease in the number of features from 784 to 5. In the code above, features from 390 to 395 were used. You can check any other 5 features from the raw data and test the accuracy. However, the main message here is that the classifier barely passed the chance level accuracy (which is 10%) at using only 5 features from the raw data. This means that the classifier failed to solve the problem using this number of raw features. \n",
        "\n",
        "The question now is there another way to transform the raw data and extract less number of features that can be more informative. In other words, can we represent the data in 5 informative features that can solve the problem? \n",
        "\n",
        "The answer is yes! As we have said before, we will explore two approaches of feature engineering. The first one is manual feature extraction. By manual feature extraction, we mean trying to manually, and from our understanding of the data, to extract informative features. Manual features that are extracted based on our domain knowledge of the data can boost the classifier's accuracy significantly. These manual features can be used separately or they can be merged with other features (either raw features or features extracted using other approaches). \n",
        "\n",
        "So, are there any manual features that we can extract from the data? This is a hard question because the extraction of manual features from this type of image data is hard. The suitability of manual feature extraction depends on the dataset type (images, text, time series, etc.). But we can try to find manual features to extract from the MNIST dataset. \n",
        "\n",
        "One possibility of manual features could be the number of white pixels in the four quads of the image and the number of white pixels in the center of the image. Why these features may be representative? These features may be representative because the shape and the size of each digit differ and such difference affects its appearance in the four quads and the center of the image. So, counting the number of white pixels in the quads and the center may provide some information about the digits. \n",
        "\n",
        "So, let's use these 5 manual features and test the classifier's accuracy in this case!"
      ]
    },
    {
      "cell_type": "code",
      "execution_count": 27,
      "metadata": {
        "colab": {
          "base_uri": "https://localhost:8080/"
        },
        "id": "_5msB91KiHpL",
        "outputId": "8cff8ca2-9716-4148-bdb5-1bc1c5bc4470"
      },
      "outputs": [
        {
          "output_type": "stream",
          "name": "stdout",
          "text": [
            "(10000, 5)\n"
          ]
        }
      ],
      "source": [
        "#Extracting 5 manual features from the data\n",
        "\n",
        "mnist_images_classify = np.reshape(mnist_data_classify, (samples_num, 28, 28))\n",
        "feature1 = np.sum(np.array(np.reshape(mnist_images_classify[:, 0:14, 0:14], (samples_num, 14*14))) > 0, axis=1)\n",
        "feature2 = np.sum(np.array(np.reshape(mnist_images_classify[:, 0:14, 14:28], (samples_num, 14*14))) > 0, axis=1)\n",
        "feature3 = np.sum(np.array(np.reshape(mnist_images_classify[:, 14:28, 0:14], (samples_num, 14*14))) > 0, axis=1)\n",
        "feature4 = np.sum(np.array(np.reshape(mnist_images_classify[:, 14:28, 14:28], (samples_num, 14*14))) > 0, axis=1)\n",
        "feature5 = np.sum(np.array(np.reshape(mnist_images_classify[:, 7:21, 7:21], (samples_num, 14*14))) > 0, axis=1)\n",
        "manual_features = np.array([feature1, feature2, feature3, feature4, feature5]).T\n",
        "\n",
        "print(manual_features.shape)"
      ]
    },
    {
      "cell_type": "code",
      "execution_count": 28,
      "metadata": {
        "colab": {
          "base_uri": "https://localhost:8080/"
        },
        "id": "oKV6x4KPi99d",
        "outputId": "26bfa84b-5978-43aa-8366-6562dda9513a"
      },
      "outputs": [
        {
          "output_type": "stream",
          "name": "stdout",
          "text": [
            "0.5552\n"
          ]
        }
      ],
      "source": [
        "#Testing a linear SVM classification model using 5 manually extracted features\n",
        "\n",
        "Xtrain, Xtest, ytrain, ytest = train_test_split(manual_features, mnist_labels_classify, random_state=42) #Splitting the data\n",
        "model = SVC(kernel='linear') #Building the model\n",
        "model.fit(Xtrain, ytrain) #Fitting the model with training data\n",
        "yfit = model.predict(Xtest) #Predicting the testing data labels \n",
        "print(accuracy_score(ytest, yfit)) #Printing the classification accuracy achieved by the model on the testing data"
      ]
    },
    {
      "cell_type": "markdown",
      "metadata": {
        "id": "a42TwVqTjRv6"
      },
      "source": [
        "We were able to increase the classification accuracy from 0.11 to 0.56 using the same number of features only by extracting more informative features from the data! The 0.56 accuracy surpasses the chance level (10%) by more than 40%. This means that the classifier can classify the digits above the chance level and this means that the manual feature extraction can help in enhancing the classification accuracy with less number of features. However, if we compare the 0.56 accuracy with the 0.92 accuracy of the raw 784, we will find that there is still a big difference. \n",
        "\n",
        "So, now, we can discuss the second feature engineering approach that can improve the classification accuracy and reach more than 0.56 with only 5 features. This second approach is an automated approach (not manual as the previous one) in which it uses \"Dimensionality Reduction\".\n",
        "\n",
        "Dimensionality reduction algorithms are usually used to transform the data and represent it in less but more informative features. Principal Component Analysis (PCA) is one of the most famous and commonly used dimensionality reduction algorithms. In this notebook, we will apply the PCA to our data and check its effect on the accuracy. However, there are other multiple dimensionality reduction algorithms. You can know more about the different dimensionality reduction algorithms from this link: https://www.analyticsvidhya.com/blog/2018/08/dimensionality-reduction-techniques-python/.\n",
        "\n",
        "So, let's apply the PCA to our raw data and visualize it!"
      ]
    },
    {
      "cell_type": "code",
      "execution_count": 29,
      "metadata": {
        "colab": {
          "base_uri": "https://localhost:8080/"
        },
        "id": "hAmugtr1psdI",
        "outputId": "13143f2e-aa16-463c-ca05-8fb498e1b3cb"
      },
      "outputs": [
        {
          "output_type": "stream",
          "name": "stdout",
          "text": [
            "(10000, 784) (10000, 2)\n"
          ]
        }
      ],
      "source": [
        "#Transforming the raw 784 features into 2 features using PCA\n",
        "\n",
        "from sklearn.decomposition import PCA\n",
        "\n",
        "pca = PCA(n_components=2, random_state=42)\n",
        "transformed_features = pca.fit_transform(mnist_data_classify)\n",
        "print(mnist_data_classify.shape, transformed_features.shape)"
      ]
    },
    {
      "cell_type": "code",
      "execution_count": 30,
      "metadata": {
        "colab": {
          "base_uri": "https://localhost:8080/",
          "height": 289
        },
        "id": "juORZs8wqF3H",
        "outputId": "6ff3a156-058e-44bd-84da-4dc29c66cbb0"
      },
      "outputs": [
        {
          "output_type": "display_data",
          "data": {
            "text/plain": [
              "<Figure size 432x288 with 2 Axes>"
            ],
            "image/png": "[encoded data removed]"
          },
          "metadata": {}
        }
      ],
      "source": [
        "#Visualizing the 2 features after PCA transformation\n",
        "\n",
        "plt.scatter(transformed_features[:, 0], transformed_features[:, 1],\n",
        "            c=mnist_labels_classify, edgecolor='none', alpha=0.5)\n",
        "plt.xlabel('Component 1')\n",
        "plt.ylabel('Component 2')\n",
        "plt.colorbar();"
      ]
    },
    {
      "cell_type": "markdown",
      "metadata": {
        "id": "T30G4IhYspc_"
      },
      "source": [
        "From the visual representation of the PCA components above, we can reach multiple conclusions:\n",
        "\n",
        "1. The PCA succeeded to form well-identified clusters of the 10 digits using only 2 features. \n",
        "2. Although the digits are well clustered, they are not linearly separable. This means that a linear classifier may not be the best option for accurate classification. However, maybe with more features (higher dimensions), the data will be linearly separable and a linear classifier can classify them accurately. \n",
        "3. The range of the 2 components is so wide (from -1500 to 2500). Moreover, there is a difference in the range between the two components (one of them is from -1500 to 1500 and the other is from -1000 to 2500). This means that for better accuracy and less computational complexity, we may need to rescale the features to be in one small range of values (as an example, we can make the range from 0 to 1 using the MinMaxScaler we have used above in the notebook). This rescaling may be crucial to some algorithms such as SVM and neural networks. \n",
        "\n",
        "This shows the importance of visualizing your features. It may help you to better design your machine learning pipeline. \n",
        "\n",
        "Now, let's use the PCA to transform the data and use 5 features after the transformation with our linear SVM classifier (we will rescale the features for the reasons mentioned above)."
      ]
    },
    {
      "cell_type": "code",
      "execution_count": 31,
      "metadata": {
        "colab": {
          "base_uri": "https://localhost:8080/"
        },
        "id": "_6VulsYIW5xN",
        "outputId": "32bed13e-8c3e-41d4-cf66-8ce3242dda5d"
      },
      "outputs": [
        {
          "output_type": "stream",
          "name": "stdout",
          "text": [
            "0.6996\n"
          ]
        }
      ],
      "source": [
        "#Building and examining the pipeline of our model that consists of PCA, feature scaler, and a linear SVM classifier using only 5 components\n",
        "\n",
        "from sklearn.pipeline import make_pipeline\n",
        "\n",
        "#Splitting the data\n",
        "Xtrain, Xtest, ytrain, ytest = train_test_split(mnist_data_classify, mnist_labels_classify, random_state=42)\n",
        "\n",
        "#Building our model\n",
        "pca = PCA(n_components=5, random_state=42) #Applying PCA\n",
        "scaler = MinMaxScaler() #Scaling the features to be in the range of 0 and 1\n",
        "svc = SVC(kernel='linear')\n",
        "model = make_pipeline(pca, scaler, svc)\n",
        "\n",
        "model.fit(Xtrain, ytrain) #Fitting the model with training data\n",
        "yfit = model.predict(Xtest) #Predicting the testing data labels \n",
        "print(accuracy_score(ytest, yfit)) #Printing the classification accuracy achieved by the model on the testing data"
      ]
    },
    {
      "cell_type": "markdown",
      "metadata": {
        "id": "wGs2tqezvZq0"
      },
      "source": [
        "We were able to increase the classification accuracy from 0.56 (using the 5 manual features) to 0.69 (using the 5 features extracted from the PCA). This shows that the PCA was able to improve the accuracy compared to the manually extracted features and that the PCA features can represent the data in a low number of features. However, again, as we have seen with the manual features, if we compare the 0.69 accuracy with the 0.92 accuracy of the raw 784 features, we will find that there is still a big difference. \n",
        "\n",
        "So, let's try increasing our components and check the accuracy. We will examine 50 components, but you can change the number of components and check how it affects the accuracy. "
      ]
    },
    {
      "cell_type": "code",
      "execution_count": 32,
      "metadata": {
        "colab": {
          "base_uri": "https://localhost:8080/"
        },
        "id": "31bVg_43zTAg",
        "outputId": "d66ea670-ec16-4aa7-859d-4ea9d3d255ae"
      },
      "outputs": [
        {
          "output_type": "stream",
          "name": "stdout",
          "text": [
            "0.928\n"
          ]
        }
      ],
      "source": [
        "#Building and examining the pipeline of our model that consists of PCA, feature scaler, and a linear SVM classifier using 50 components\n",
        "\n",
        "#Splitting the data\n",
        "Xtrain, Xtest, ytrain, ytest = train_test_split(mnist_data_classify, mnist_labels_classify, random_state=42) #Splitting the data\n",
        "\n",
        "#Building our model\n",
        "pca = PCA(n_components=50, random_state=42) #Applying PCA\n",
        "scaler = MinMaxScaler() #Scaling the features to be in the range of 0 and 1\n",
        "svc = SVC(kernel='linear')\n",
        "model = make_pipeline(pca, scaler, svc)\n",
        "\n",
        "model.fit(Xtrain, ytrain) #Fitting the model with training data\n",
        "yfit = model.predict(Xtest) #Predicting the testing data labels \n",
        "print(accuracy_score(ytest, yfit)) #Printing the classification accuracy achieved by the model on the testing data"
      ]
    },
    {
      "cell_type": "markdown",
      "metadata": {
        "id": "MWyRdhbpwreb"
      },
      "source": [
        "As we can see from the accuracy result above, the PCA with only 50 components was able to reach and slightly improve the accuracy achieved with the 784 features of the raw data. The PCA with 50 components improved the accuracy from 0.9208 to 0.928. This shows that the PCA can achieve the same or better accuracy than the raw data in less number of features. \n",
        "\n",
        "Now, we have shown different preprocessing and feature engineering methods. Before moving to the next part, we need to remember two important points:\n",
        "\n",
        "1. The pipeline of your machine learning solution, most of the time, will require merging/combining different preprocessing and feature engineering methods together to achieve better accuracy. And please note that a lot of methods can be used for both preprocessing and feature extraction/engineering. The naming of the step or the method you are implementing depends on your objective from that method. \n",
        "\n",
        "2. Feature engineering is more important in classical machine learning compared to deep learning. Feature engineering may be used in a few cases with deep learning, but it is way less essential or required in deep learning compared to classical machine learning. So, remember that the pipeline you need to build depends on the algorithms you will choose in solving your problem.\n",
        "\n",
        "Now, we can move to the next part which is trying to improve our classification accuracy through model selection or, in other words, choosing the algorithm that most suits our problem. \n",
        "\n",
        "So, let's move to model selection!"
      ]
    },
    {
      "cell_type": "markdown",
      "metadata": {
        "id": "kVey-RZAzbV-"
      },
      "source": [
        "# **Step 5: Model Selection for Accuracy Improvement**\n",
        "\n",
        "In all the previous parts, we have been using a linear SVM model. However, the choice of the model itself is a big part of the machine learning pipeline. The choice of the algorithm that best suits your data is an essential part of the solution. Understanding the problem, the data, and the different available algorithms is important for the initial choice of the potential suitable algorithms. After determining the potential algorithms that could work with the data, you start testing them iteratively to find the best one for your problem. You can learn more about choosing the right machine learning algorithm from this article: https://medium.com/hackernoon/choosing-the-right-machine-learning-algorithm-68126944ce1f\n",
        "\n",
        "\n",
        "In our case, we have been using a linear SVM classifier. Does this mean that a linear classifier is the most suitable algorithm for this problem? From the PCA visualization we have seen above, we can see nonlinearity in the data. This shows that the data may not be linearly separable and a nonlinear classifier may work better. So, we can examine a nonlinear SVM model to check its performance compared to the linear SVM model. But first, based on our findings from the previous parts, we will combine different methods in our solution pipeline. We will build our pipeline by deskewing the images as a preprocessing step and applying PCA with 50 components as a feature engineering extraction step. \n",
        "\n",
        "So, let's build our pipeline with a linear SVM model!"
      ]
    },
    {
      "cell_type": "code",
      "execution_count": 33,
      "metadata": {
        "colab": {
          "base_uri": "https://localhost:8080/"
        },
        "id": "lj87liP7ziTF",
        "outputId": "dc8a0191-4900-4f3e-c17c-d38cbfca2664"
      },
      "outputs": [
        {
          "output_type": "stream",
          "name": "stdout",
          "text": [
            "0.9572\n"
          ]
        }
      ],
      "source": [
        "#Building and examining the pipeline of our model that consists of PCA, feature scaler, and a linear SVM classifier using 50 components\n",
        "\n",
        "#Splitting the data\n",
        "Xtrain, Xtest, ytrain, ytest = train_test_split(mnist_data_classify_deskew, mnist_labels_classify, random_state=42)\n",
        "\n",
        "#Building our model\n",
        "pca = PCA(n_components=50, random_state=42) #Applying PCA\n",
        "scaler = MinMaxScaler() #Scaling the features to be in the range of 0 and 1\n",
        "svc = SVC(kernel='linear')\n",
        "model = make_pipeline(pca, scaler, svc)\n",
        "\n",
        "model.fit(Xtrain, ytrain) #Fitting the model with training data\n",
        "yfit = model.predict(Xtest) #Predicting the testing data labels \n",
        "print(accuracy_score(ytest, yfit)) #Printing the classification accuracy achieved by the model on the testing data"
      ]
    },
    {
      "cell_type": "markdown",
      "metadata": {
        "id": "LNbYHCJ3BJDr"
      },
      "source": [
        "Combining a preprocessing method (deskewing) and feature engineering method (PCA) with the linear SVM model led to the best accuracy so far, **0.96**, compared to all our previous trials. This shows the significance of the preprocessing and feature engineering steps and their combinations. \n",
        "\n",
        "Now, let's examine using a nonlinear SVM and compare it with the linear SVM model. We will an SVM model with 'rbf' kernel. "
      ]
    },
    {
      "cell_type": "code",
      "execution_count": 34,
      "metadata": {
        "colab": {
          "base_uri": "https://localhost:8080/"
        },
        "id": "_paAwsyPBCMd",
        "outputId": "1062f3b8-3df1-4bda-9d4f-9298ef92a281"
      },
      "outputs": [
        {
          "output_type": "stream",
          "name": "stdout",
          "text": [
            "0.9772\n"
          ]
        }
      ],
      "source": [
        "#Building and examining the pipeline of our model that consists of PCA, feature scaler, and a nonlinear SVM classifier using 50 components\n",
        "\n",
        "#Splitting the data\n",
        "Xtrain, Xtest, ytrain, ytest = train_test_split(mnist_data_classify_deskew, mnist_labels_classify, random_state=42)\n",
        "\n",
        "#Building our model\n",
        "pca = PCA(n_components=50, random_state=42) #Applying PCA\n",
        "scaler = MinMaxScaler() #Scaling the features to be in the range of 0 and 1\n",
        "svc = SVC(kernel='rbf')\n",
        "model = make_pipeline(pca, scaler, svc)\n",
        "\n",
        "model.fit(Xtrain, ytrain) #Fitting the model with training data\n",
        "yfit = model.predict(Xtest) #Predicting the testing data labels \n",
        "print(accuracy_score(ytest, yfit)) #Printing the classification accuracy achieved by the model on the testing data"
      ]
    },
    {
      "cell_type": "markdown",
      "metadata": {
        "id": "2Ucm9EpIB6Vu"
      },
      "source": [
        "So, we can see that the change of the model improved the accuracy by 2% from **0.96 to 0.98**. Such a significant increase is only caused by picking a nonlinear model that is more suitable for our data compared to a linear model. You can also try to change the kernel or the parameters of the SVM model and check their effect on the accuracy. \n",
        "\n",
        "Now, we know that a nonlinear classifier is more suitable for this data. So, let's try another nonlinear classifier such as the KNN classifier. "
      ]
    },
    {
      "cell_type": "code",
      "execution_count": 35,
      "metadata": {
        "colab": {
          "base_uri": "https://localhost:8080/"
        },
        "id": "l3eb7MXMB2aB",
        "outputId": "767dba5a-fa67-4d8c-bf5e-376792cd015c"
      },
      "outputs": [
        {
          "output_type": "stream",
          "name": "stdout",
          "text": [
            "0.966\n"
          ]
        }
      ],
      "source": [
        "#Building and examining the pipeline of our model that consists of PCA, feature scaler, and KNN classifier using 50 components\n",
        "\n",
        "from sklearn.neighbors import KNeighborsClassifier\n",
        "\n",
        "#Splitting the data\n",
        "Xtrain, Xtest, ytrain, ytest = train_test_split(mnist_data_classify_deskew, mnist_labels_classify, random_state=42)\n",
        "\n",
        "#Building our model\n",
        "pca = PCA(n_components=50, random_state=42) #Applying PCA\n",
        "scaler = MinMaxScaler() #Scaling the features to be in the range of 0 and 1\n",
        "knn = KNeighborsClassifier(3)\n",
        "model = make_pipeline(pca, scaler, knn)\n",
        "\n",
        "model.fit(Xtrain, ytrain) #Fitting the model with training data\n",
        "yfit = model.predict(Xtest) #Predicting the testing data labels \n",
        "print(accuracy_score(ytest, yfit)) #Printing the classification accuracy achieved by the model on the testing data"
      ]
    },
    {
      "cell_type": "markdown",
      "source": [
        "The result above shows that the KNN succeeded in solving the problem with high accuracy (~0.97) as a nonlinear classifier, but it did not surpass the nonlinear SVM classifier.\n",
        "\n",
        "We can now examine the performance that can be achieved on this dataset using neural networks. Neural networks are known for their high performance with complex tasks and large datasets due to their ability to learn complex nonlinear relationships. One of the advantages of neural networks (or deep learning in general) is that they almost eliminate the need for doing feature engineering on the data. Neural networks can learn nonlinear relationships with minimal preprocessing and almost no feature engineering. So, let's build a simple Convolutional Neural Network (CNN) model and examine its performance on the MNIST dataset.  "
      ],
      "metadata": {
        "id": "9EwWlkXpHxJd"
      }
    },
    {
      "cell_type": "code",
      "execution_count": 36,
      "metadata": {
        "colab": {
          "base_uri": "https://localhost:8080/"
        },
        "id": "ioy37EWLCl3c",
        "outputId": "bc14e029-e359-47cd-8176-d131cf7c45db"
      },
      "outputs": [
        {
          "output_type": "stream",
          "name": "stdout",
          "text": [
            "Xtrain shape: (7500, 28, 28, 1)\n",
            "Xtest shape: (2500, 28, 28, 1)\n"
          ]
        }
      ],
      "source": [
        "#Building and examining the neural networks performance without feature engineering (the images will only be scaled)\n",
        "\n",
        "from tensorflow import keras\n",
        "\n",
        "#The step of image scaling is important and essential for neural networks compared to other algorithms\n",
        "mnist_images_classify = np.reshape(mnist_data_classify, (samples_num, 28, 28))/255\n",
        "Xtrain, Xtest, ytrain, ytest = train_test_split(mnist_images_classify, mnist_labels_classify, random_state=42) #Splitting the data\n",
        "\n",
        "#Make the images shape (28, 28, 1) instead of (28, 28) to use it as input to the CNN model\n",
        "Xtrain = np.expand_dims(Xtrain, -1)\n",
        "Xtest = np.expand_dims(Xtest, -1)\n",
        "print(\"Xtrain shape:\", Xtrain.shape)\n",
        "print(\"Xtest shape:\", Xtest.shape)\n",
        "\n",
        "#Convert class vectors to binary class matrices (number of classes in this problem is 10)\n",
        "ytrain = keras.utils.to_categorical(ytrain, 10)\n",
        "ytest = keras.utils.to_categorical(ytest, 10)"
      ]
    },
    {
      "cell_type": "code",
      "execution_count": 37,
      "metadata": {
        "colab": {
          "base_uri": "https://localhost:8080/"
        },
        "id": "8tZt5kmGCl3d",
        "outputId": "99cf8b63-98ba-4915-83fd-08d37733eb49"
      },
      "outputs": [
        {
          "output_type": "stream",
          "name": "stdout",
          "text": [
            "Model: \"sequential\"\n",
            "_________________________________________________________________\n",
            " Layer (type)                Output Shape              Param #   \n",
            "=================================================================\n",
            " conv2d (Conv2D)             (None, 26, 26, 32)        320       \n",
            "                                                                 \n",
            " max_pooling2d (MaxPooling2D  (None, 13, 13, 32)       0         \n",
            " )                                                               \n",
            "                                                                 \n",
            " conv2d_1 (Conv2D)           (None, 11, 11, 32)        9248      \n",
            "                                                                 \n",
            " max_pooling2d_1 (MaxPooling  (None, 5, 5, 32)         0         \n",
            " 2D)                                                             \n",
            "                                                                 \n",
            " flatten (Flatten)           (None, 800)               0         \n",
            "                                                                 \n",
            " dropout (Dropout)           (None, 800)               0         \n",
            "                                                                 \n",
            " dense (Dense)               (None, 10)                8010      \n",
            "                                                                 \n",
            "=================================================================\n",
            "Total params: 17,578\n",
            "Trainable params: 17,578\n",
            "Non-trainable params: 0\n",
            "_________________________________________________________________\n",
            "None\n"
          ]
        }
      ],
      "source": [
        "#Building the model\n",
        "\n",
        "from keras import Sequential\n",
        "from keras.layers import Conv2D, MaxPooling2D, Flatten, Dropout, Dense\n",
        "\n",
        "model=Sequential()\n",
        "model.add(Conv2D(filters=32, kernel_size=3, activation=\"relu\", input_shape=(28,28,1)))\n",
        "model.add(MaxPooling2D(pool_size=2))\n",
        "model.add(Conv2D(filters=32, kernel_size=3, activation=\"relu\"))\n",
        "model.add(MaxPooling2D(pool_size=2))\n",
        "model.add(Flatten())\n",
        "model.add(Dropout(0.5))\n",
        "model.add(Dense(10, activation=\"softmax\"))\n",
        "print(model.summary())"
      ]
    },
    {
      "cell_type": "code",
      "execution_count": 38,
      "metadata": {
        "colab": {
          "base_uri": "https://localhost:8080/"
        },
        "id": "70TiwxkgCl3d",
        "outputId": "643603fb-1213-47ad-a490-0dab471d9fe8"
      },
      "outputs": [
        {
          "output_type": "stream",
          "name": "stdout",
          "text": [
            "Epoch 1/100\n",
            "118/118 [==============================] - 12s 8ms/step - loss: 1.5708 - accuracy: 0.4924 - val_loss: 0.5653 - val_accuracy: 0.8656\n",
            "Epoch 2/100\n",
            "118/118 [==============================] - 1s 4ms/step - loss: 0.5448 - accuracy: 0.8289 - val_loss: 0.3006 - val_accuracy: 0.9224\n",
            "Epoch 3/100\n",
            "118/118 [==============================] - 1s 5ms/step - loss: 0.3707 - accuracy: 0.8860 - val_loss: 0.2328 - val_accuracy: 0.9324\n",
            "Epoch 4/100\n",
            "118/118 [==============================] - 1s 5ms/step - loss: 0.3048 - accuracy: 0.9096 - val_loss: 0.1955 - val_accuracy: 0.9444\n",
            "Epoch 5/100\n",
            "118/118 [==============================] - 1s 5ms/step - loss: 0.2639 - accuracy: 0.9203 - val_loss: 0.1761 - val_accuracy: 0.9516\n",
            "Epoch 6/100\n",
            "118/118 [==============================] - 1s 5ms/step - loss: 0.2309 - accuracy: 0.9313 - val_loss: 0.1563 - val_accuracy: 0.9576\n",
            "Epoch 7/100\n",
            "118/118 [==============================] - 1s 5ms/step - loss: 0.2162 - accuracy: 0.9344 - val_loss: 0.1490 - val_accuracy: 0.9580\n",
            "Epoch 8/100\n",
            "118/118 [==============================] - 1s 5ms/step - loss: 0.1978 - accuracy: 0.9375 - val_loss: 0.1322 - val_accuracy: 0.9632\n",
            "Epoch 9/100\n",
            "118/118 [==============================] - 1s 5ms/step - loss: 0.1814 - accuracy: 0.9465 - val_loss: 0.1280 - val_accuracy: 0.9632\n",
            "Epoch 10/100\n",
            "118/118 [==============================] - 1s 5ms/step - loss: 0.1683 - accuracy: 0.9511 - val_loss: 0.1187 - val_accuracy: 0.9656\n",
            "Epoch 11/100\n",
            "118/118 [==============================] - 1s 5ms/step - loss: 0.1572 - accuracy: 0.9532 - val_loss: 0.1117 - val_accuracy: 0.9700\n",
            "Epoch 12/100\n",
            "118/118 [==============================] - 1s 5ms/step - loss: 0.1466 - accuracy: 0.9565 - val_loss: 0.1049 - val_accuracy: 0.9712\n",
            "Epoch 13/100\n",
            "118/118 [==============================] - 1s 5ms/step - loss: 0.1421 - accuracy: 0.9544 - val_loss: 0.1044 - val_accuracy: 0.9708\n",
            "Epoch 14/100\n",
            "118/118 [==============================] - 1s 5ms/step - loss: 0.1271 - accuracy: 0.9597 - val_loss: 0.0948 - val_accuracy: 0.9748\n",
            "Epoch 15/100\n",
            "118/118 [==============================] - 1s 5ms/step - loss: 0.1269 - accuracy: 0.9620 - val_loss: 0.0924 - val_accuracy: 0.9752\n",
            "Epoch 16/100\n",
            "118/118 [==============================] - 1s 5ms/step - loss: 0.1143 - accuracy: 0.9668 - val_loss: 0.0889 - val_accuracy: 0.9744\n",
            "Epoch 17/100\n",
            "118/118 [==============================] - 1s 5ms/step - loss: 0.1240 - accuracy: 0.9607 - val_loss: 0.0886 - val_accuracy: 0.9736\n",
            "Epoch 18/100\n",
            "118/118 [==============================] - 1s 5ms/step - loss: 0.1181 - accuracy: 0.9627 - val_loss: 0.0822 - val_accuracy: 0.9776\n",
            "Epoch 19/100\n",
            "118/118 [==============================] - 1s 5ms/step - loss: 0.1107 - accuracy: 0.9684 - val_loss: 0.0807 - val_accuracy: 0.9780\n",
            "Epoch 20/100\n",
            "118/118 [==============================] - 1s 5ms/step - loss: 0.1044 - accuracy: 0.9676 - val_loss: 0.0799 - val_accuracy: 0.9784\n",
            "Epoch 21/100\n",
            "118/118 [==============================] - 1s 5ms/step - loss: 0.0973 - accuracy: 0.9696 - val_loss: 0.0802 - val_accuracy: 0.9768\n",
            "Epoch 22/100\n",
            "118/118 [==============================] - 1s 5ms/step - loss: 0.0927 - accuracy: 0.9701 - val_loss: 0.0775 - val_accuracy: 0.9768\n",
            "Epoch 23/100\n",
            "118/118 [==============================] - 1s 5ms/step - loss: 0.0941 - accuracy: 0.9711 - val_loss: 0.0726 - val_accuracy: 0.9808\n",
            "Epoch 24/100\n",
            "118/118 [==============================] - 1s 5ms/step - loss: 0.0933 - accuracy: 0.9704 - val_loss: 0.0716 - val_accuracy: 0.9816\n",
            "Epoch 25/100\n",
            "118/118 [==============================] - 1s 5ms/step - loss: 0.0856 - accuracy: 0.9743 - val_loss: 0.0696 - val_accuracy: 0.9800\n",
            "Epoch 26/100\n",
            "118/118 [==============================] - 1s 5ms/step - loss: 0.0849 - accuracy: 0.9721 - val_loss: 0.0699 - val_accuracy: 0.9796\n",
            "Epoch 27/100\n",
            "118/118 [==============================] - 1s 5ms/step - loss: 0.0869 - accuracy: 0.9703 - val_loss: 0.0734 - val_accuracy: 0.9768\n",
            "Epoch 28/100\n",
            "118/118 [==============================] - 1s 5ms/step - loss: 0.0807 - accuracy: 0.9739 - val_loss: 0.0676 - val_accuracy: 0.9804\n",
            "Epoch 29/100\n",
            "118/118 [==============================] - 1s 5ms/step - loss: 0.0744 - accuracy: 0.9744 - val_loss: 0.0669 - val_accuracy: 0.9820\n",
            "Epoch 30/100\n",
            "118/118 [==============================] - 1s 5ms/step - loss: 0.0711 - accuracy: 0.9784 - val_loss: 0.0663 - val_accuracy: 0.9824\n",
            "Epoch 31/100\n",
            "118/118 [==============================] - 1s 5ms/step - loss: 0.0723 - accuracy: 0.9763 - val_loss: 0.0663 - val_accuracy: 0.9812\n",
            "Epoch 32/100\n",
            "118/118 [==============================] - 1s 5ms/step - loss: 0.0729 - accuracy: 0.9781 - val_loss: 0.0648 - val_accuracy: 0.9808\n",
            "Epoch 33/100\n",
            "118/118 [==============================] - 1s 5ms/step - loss: 0.0687 - accuracy: 0.9781 - val_loss: 0.0645 - val_accuracy: 0.9828\n",
            "Epoch 34/100\n",
            "118/118 [==============================] - 1s 5ms/step - loss: 0.0671 - accuracy: 0.9771 - val_loss: 0.0653 - val_accuracy: 0.9824\n",
            "Epoch 35/100\n",
            "118/118 [==============================] - 1s 5ms/step - loss: 0.0669 - accuracy: 0.9796 - val_loss: 0.0622 - val_accuracy: 0.9840\n",
            "Epoch 36/100\n",
            "118/118 [==============================] - 1s 5ms/step - loss: 0.0642 - accuracy: 0.9804 - val_loss: 0.0620 - val_accuracy: 0.9832\n",
            "Epoch 37/100\n",
            "118/118 [==============================] - 1s 5ms/step - loss: 0.0594 - accuracy: 0.9805 - val_loss: 0.0615 - val_accuracy: 0.9820\n",
            "Epoch 38/100\n",
            "118/118 [==============================] - 1s 5ms/step - loss: 0.0605 - accuracy: 0.9807 - val_loss: 0.0652 - val_accuracy: 0.9824\n",
            "Epoch 39/100\n",
            "118/118 [==============================] - 1s 5ms/step - loss: 0.0593 - accuracy: 0.9809 - val_loss: 0.0609 - val_accuracy: 0.9828\n",
            "Epoch 40/100\n",
            "118/118 [==============================] - 1s 5ms/step - loss: 0.0555 - accuracy: 0.9831 - val_loss: 0.0613 - val_accuracy: 0.9840\n",
            "Epoch 41/100\n",
            "118/118 [==============================] - 1s 5ms/step - loss: 0.0576 - accuracy: 0.9803 - val_loss: 0.0649 - val_accuracy: 0.9820\n",
            "Epoch 42/100\n",
            "118/118 [==============================] - 1s 5ms/step - loss: 0.0638 - accuracy: 0.9800 - val_loss: 0.0659 - val_accuracy: 0.9832\n",
            "Epoch 43/100\n",
            "118/118 [==============================] - 1s 5ms/step - loss: 0.0530 - accuracy: 0.9824 - val_loss: 0.0636 - val_accuracy: 0.9832\n",
            "Epoch 44/100\n",
            "118/118 [==============================] - 1s 5ms/step - loss: 0.0549 - accuracy: 0.9828 - val_loss: 0.0621 - val_accuracy: 0.9828\n",
            "Epoch 45/100\n",
            "118/118 [==============================] - 1s 5ms/step - loss: 0.0556 - accuracy: 0.9807 - val_loss: 0.0639 - val_accuracy: 0.9808\n"
          ]
        }
      ],
      "source": [
        "#Fitting the model\n",
        "\n",
        "import tensorflow as tf\n",
        "\n",
        "batch_size = 64\n",
        "num_epochs = 100\n",
        "l_r = 0.0005\n",
        "\n",
        "model.compile(loss='categorical_crossentropy',optimizer=tf.keras.optimizers.Adam(learning_rate=l_r),metrics=['accuracy'])\n",
        "tf.random.set_seed(123)\n",
        "early_stopping_callback = tf.keras.callbacks.EarlyStopping(monitor='val_accuracy', patience=10, restore_best_weights=True)\n",
        "history = model.fit(Xtrain, ytrain, shuffle=True, validation_data=(Xtest, ytest), batch_size=batch_size, epochs=num_epochs, callbacks=[early_stopping_callback])"
      ]
    },
    {
      "cell_type": "code",
      "execution_count": 39,
      "metadata": {
        "colab": {
          "base_uri": "https://localhost:8080/"
        },
        "id": "JeRgM2nDCl3e",
        "outputId": "7ce34840-67cc-41db-9e09-3ed264447e66"
      },
      "outputs": [
        {
          "output_type": "stream",
          "name": "stdout",
          "text": [
            "Test accuracy: 0.984000027179718\n"
          ]
        }
      ],
      "source": [
        "#Evaluating the model accuracy\n",
        "\n",
        "scores = model.evaluate(Xtest, ytest, verbose=0)\n",
        "print('Test accuracy:', scores[1])"
      ]
    },
    {
      "cell_type": "markdown",
      "source": [
        "We can see that the CNN model achieved the highest accuracy, without feature engineering, compared to all the algorithms we have examined. The CNN model achieved an accuracy of **0.984** which is higher than **0.977** (the best accuracy achieved by a nonlinear SVM model).\n",
        "\n",
        "Let's now visualize the learning process of the model across the epochs and display the confusion matrix. "
      ],
      "metadata": {
        "id": "1MonDwNILAg5"
      }
    },
    {
      "cell_type": "code",
      "execution_count": 40,
      "metadata": {
        "colab": {
          "base_uri": "https://localhost:8080/",
          "height": 285
        },
        "id": "27ZNHIt9Cl3e",
        "outputId": "c9d8b1ef-89b8-4623-f609-62932e49bcc9"
      },
      "outputs": [
        {
          "output_type": "display_data",
          "data": {
            "text/plain": [
              "<Figure size 432x288 with 1 Axes>"
            ],
            "image/png": "[encoded data removed]"
          },
          "metadata": {}
        }
      ],
      "source": [
        "#Visualizing the training and validation accuracy\n",
        "\n",
        "import matplotlib as mpl\n",
        "\n",
        "def plot_learning_curves(loss, val_loss):\n",
        "    plt.plot(np.arange(len(loss))+1, loss, \"b.-\", label=\"Training accuracy\")\n",
        "    plt.plot(np.arange(len(val_loss))+1, val_loss, \"r.-\", label=\"Validation accuracy\")\n",
        "    plt.gca().xaxis.set_major_locator(mpl.ticker.MaxNLocator(integer=True))\n",
        "    plt.legend(fontsize=14)\n",
        "    plt.xlabel(\"Epochs\")\n",
        "    plt.ylabel(\"Accuracy\")\n",
        "    plt.grid(True)\n",
        "\n",
        "plot_learning_curves(history.history[\"accuracy\"], history.history[\"val_accuracy\"])\n",
        "plt.show()"
      ]
    },
    {
      "cell_type": "code",
      "execution_count": 41,
      "metadata": {
        "colab": {
          "base_uri": "https://localhost:8080/",
          "height": 285
        },
        "id": "HGdf-MXaCl3f",
        "outputId": "40d35825-be76-4351-c595-e4ec726eac15"
      },
      "outputs": [
        {
          "output_type": "display_data",
          "data": {
            "text/plain": [
              "<Figure size 432x288 with 1 Axes>"
            ],
            "image/png": "[encoded data removed]"
          },
          "metadata": {}
        }
      ],
      "source": [
        "#Visualizing the training and validation loss\n",
        "\n",
        "def plot_learning_curves(loss, val_loss):\n",
        "    plt.plot(np.arange(len(loss))+1, loss, \"b.-\", label=\"Training loss\")\n",
        "    plt.plot(np.arange(len(val_loss))+1, val_loss, \"r.-\", label=\"Validation loss\")\n",
        "    plt.gca().xaxis.set_major_locator(mpl.ticker.MaxNLocator(integer=True))\n",
        "    plt.legend(fontsize=14)\n",
        "    plt.xlabel(\"Epochs\")\n",
        "    plt.ylabel(\"Loss\")\n",
        "    plt.grid(True)\n",
        "\n",
        "plot_learning_curves(history.history[\"loss\"], history.history[\"val_loss\"])\n",
        "plt.show()"
      ]
    },
    {
      "cell_type": "code",
      "execution_count": 42,
      "metadata": {
        "colab": {
          "base_uri": "https://localhost:8080/",
          "height": 285
        },
        "id": "6fXFjY1MCl3f",
        "outputId": "8bbfbfda-c2b5-47b9-f1ec-a0c9d16bee65"
      },
      "outputs": [
        {
          "output_type": "display_data",
          "data": {
            "text/plain": [
              "<Figure size 432x288 with 1 Axes>"
            ],
            "image/png": "[encoded data removed]"
          },
          "metadata": {}
        }
      ],
      "source": [
        "#Plotting the confusion matrix\n",
        "\n",
        "yhat = model.predict(Xtest)\n",
        "ytest_numeric = np.argmax(ytest, axis=1)\n",
        "yhat_numeric = np.argmax(yhat, axis=1)\n",
        "\n",
        "conf_mat = confusion_matrix(ytest_numeric, yhat_numeric)\n",
        "\n",
        "sns.heatmap(conf_mat.T, square=True, annot=True, fmt='d', cbar=False)\n",
        "plt.xlabel('True Label')\n",
        "plt.ylabel('Predicted Label');"
      ]
    },
    {
      "cell_type": "markdown",
      "source": [
        "The results above show an example of the high accuracy that can be achieved using neural networks compared to other algorithms. In this notebook, for simplicity, we have been using a small number of training and testing samples. However, the high potential of neural networks appears more with large datasets. So, you can try using the whole dataset and examine the CNN model's performance. In this case, you can divide the data into training, validation, and testing instead of the training and testing split that we have used in this notebook. You can also try changing the model's architecture and hyperparameters to achieve better accuracy. "
      ],
      "metadata": {
        "id": "YI-gqx_4NSnL"
      }
    },
    {
      "cell_type": "markdown",
      "source": [
        "Generally, multiple other nonlinear algorithms can be examined with different parameters and combinations of preprocessing and feature engineering methods. You can try any of them and check if you can improve the accuracy. The links below show the accuracies achieved by the different algorithms and preprocessing and feature engineering methods:  \n",
        "\n",
        "*   http://yann.lecun.com/exdb/mnist/index.html\n",
        "*   https://paperswithcode.com/sota/image-classification-on-mnist\n",
        "\n",
        "You can note from the above links that, as we have also shown in this notebook, neural networks were able to achieve the best accuracies compared to the other conventional algorithms. So, you can check the above links and try to build your own solution.  "
      ],
      "metadata": {
        "id": "vW6P5eYZJtT3"
      }
    },
    {
      "cell_type": "markdown",
      "metadata": {
        "id": "N5jeXQESG9GG"
      },
      "source": [
        "# **Summary**\n",
        "\n",
        "\n",
        "---\n",
        "\n",
        "\n",
        "In this notebook, we have shown an overview of the general pipeline to be followed in solving a machine learning problem. We have discussed data exploration, building a baseline model, data preprocessing, feature engineering, and model selection. We have shown the performance of different models and we have shown the superior performance achieved by neural networks. You can use the links included in the notebook for more information about each one of these topics. \n",
        "\n",
        "One last thing that was not mentioned in this notebook and is an important part of the pipeline is the choice of the evaluation metric for your problem. There are multiple evaluation metrics that can be used, so you need to choose the evaluation metric that will better represent the success of your model in solving your problem. You can know more about this topic from this article: https://towardsdatascience.com/metrics-to-evaluate-your-machine-learning-algorithm-f10ba6e38234\n",
        "\n",
        "I wish you the best with your coming machine learning model! :) "
      ]
    }
  ],
  "metadata": {
    "colab": {
      "collapsed_sections": [],
      "name": "Extra_Session_Machine_Learning_Pipeline_MNIST_Dataset_Updated.ipynb",
      "provenance": []
    },
    "kernelspec": {
      "display_name": "Python 3",
      "language": "python",
      "name": "python3"
    },
    "language_info": {
      "codemirror_mode": {
        "name": "ipython",
        "version": 3
      },
      "file_extension": ".py",
      "mimetype": "text/x-python",
      "name": "python",
      "nbconvert_exporter": "python",
      "pygments_lexer": "ipython3",
      "version": "3.7.3"
    },
    "accelerator": "GPU",
    "gpuClass": "standard"
  },
  "nbformat": 4,
  "nbformat_minor": 0
}